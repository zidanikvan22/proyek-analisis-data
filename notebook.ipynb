{
 "cells": [
  {
   "cell_type": "markdown",
   "id": "97a4c058-dc7f-4eea-bebc-86f5df090f0f",
   "metadata": {},
   "source": [
    "# Proyek Akhir Analisis Data: [E-Commerce Public Dataset]\n",
    "\n",
    "- Nama: Zidan Muhammad Ikvan\n",
    "- Email: zidanikvan@gmail.com\n",
    "- ID Student: mc404d5y0059\n"
   ]
  },
  {
   "cell_type": "markdown",
   "id": "ed12aa13-8e43-47c9-af5f-ca290e3c644b",
   "metadata": {},
   "source": [
    "## Menentukan Pertanyaan Bisnis\n",
    "- Bagaimana performa penjualan dan revenue perusahaan dalam beberapa bulan terakhir?\n",
    "- Bagaimana demografi pelanggan yang kita miliki?\n",
    "- Produk apa yang paling banyak dan paling sedikit terjual?"
   ]
  },
  {
   "cell_type": "markdown",
   "id": "8fb8966d-7767-4784-9ad1-0194f006d9fe",
   "metadata": {},
   "source": [
    "## Import Semua Packages/Library yang Digunakan"
   ]
  },
  {
   "cell_type": "code",
   "execution_count": 2,
   "id": "e182190d-6aaf-4824-9c1b-a9ab25d4fd35",
   "metadata": {},
   "outputs": [],
   "source": [
    "import numpy as np\n",
    "import pandas as pd\n",
    "import matplotlib.pyplot as plt\n",
    "import seaborn as sns"
   ]
  },
  {
   "cell_type": "markdown",
   "id": "6ba943b2-a1d6-490f-8ad1-42a8af1f58a5",
   "metadata": {
    "jp-MarkdownHeadingCollapsed": true
   },
   "source": [
    "## Data Wrangling"
   ]
  },
  {
   "cell_type": "markdown",
   "id": "56ed7c44-b411-46ad-82e8-9be0fbf154b3",
   "metadata": {
    "jp-MarkdownHeadingCollapsed": true
   },
   "source": [
    "### Gathering Data"
   ]
  },
  {
   "cell_type": "code",
   "execution_count": 3,
   "id": "1a48644d-41fd-4927-97b2-6dfd31da57f6",
   "metadata": {},
   "outputs": [
    {
     "data": {
      "text/html": [
       "<div>\n",
       "<style scoped>\n",
       "    .dataframe tbody tr th:only-of-type {\n",
       "        vertical-align: middle;\n",
       "    }\n",
       "\n",
       "    .dataframe tbody tr th {\n",
       "        vertical-align: top;\n",
       "    }\n",
       "\n",
       "    .dataframe thead th {\n",
       "        text-align: right;\n",
       "    }\n",
       "</style>\n",
       "<table border=\"1\" class=\"dataframe\">\n",
       "  <thead>\n",
       "    <tr style=\"text-align: right;\">\n",
       "      <th></th>\n",
       "      <th>customer_id</th>\n",
       "      <th>customer_unique_id</th>\n",
       "      <th>customer_zip_code_prefix</th>\n",
       "      <th>customer_city</th>\n",
       "      <th>customer_state</th>\n",
       "    </tr>\n",
       "  </thead>\n",
       "  <tbody>\n",
       "    <tr>\n",
       "      <th>0</th>\n",
       "      <td>06b8999e2fba1a1fbc88172c00ba8bc7</td>\n",
       "      <td>861eff4711a542e4b93843c6dd7febb0</td>\n",
       "      <td>14409</td>\n",
       "      <td>franca</td>\n",
       "      <td>SP</td>\n",
       "    </tr>\n",
       "    <tr>\n",
       "      <th>1</th>\n",
       "      <td>18955e83d337fd6b2def6b18a428ac77</td>\n",
       "      <td>290c77bc529b7ac935b93aa66c333dc3</td>\n",
       "      <td>9790</td>\n",
       "      <td>sao bernardo do campo</td>\n",
       "      <td>SP</td>\n",
       "    </tr>\n",
       "    <tr>\n",
       "      <th>2</th>\n",
       "      <td>4e7b3e00288586ebd08712fdd0374a03</td>\n",
       "      <td>060e732b5b29e8181a18229c7b0b2b5e</td>\n",
       "      <td>1151</td>\n",
       "      <td>sao paulo</td>\n",
       "      <td>SP</td>\n",
       "    </tr>\n",
       "    <tr>\n",
       "      <th>3</th>\n",
       "      <td>b2b6027bc5c5109e529d4dc6358b12c3</td>\n",
       "      <td>259dac757896d24d7702b9acbbff3f3c</td>\n",
       "      <td>8775</td>\n",
       "      <td>mogi das cruzes</td>\n",
       "      <td>SP</td>\n",
       "    </tr>\n",
       "    <tr>\n",
       "      <th>4</th>\n",
       "      <td>4f2d8ab171c80ec8364f7c12e35b23ad</td>\n",
       "      <td>345ecd01c38d18a9036ed96c73b8d066</td>\n",
       "      <td>13056</td>\n",
       "      <td>campinas</td>\n",
       "      <td>SP</td>\n",
       "    </tr>\n",
       "  </tbody>\n",
       "</table>\n",
       "</div>"
      ],
      "text/plain": [
       "                        customer_id                customer_unique_id  \\\n",
       "0  06b8999e2fba1a1fbc88172c00ba8bc7  861eff4711a542e4b93843c6dd7febb0   \n",
       "1  18955e83d337fd6b2def6b18a428ac77  290c77bc529b7ac935b93aa66c333dc3   \n",
       "2  4e7b3e00288586ebd08712fdd0374a03  060e732b5b29e8181a18229c7b0b2b5e   \n",
       "3  b2b6027bc5c5109e529d4dc6358b12c3  259dac757896d24d7702b9acbbff3f3c   \n",
       "4  4f2d8ab171c80ec8364f7c12e35b23ad  345ecd01c38d18a9036ed96c73b8d066   \n",
       "\n",
       "   customer_zip_code_prefix          customer_city customer_state  \n",
       "0                     14409                 franca             SP  \n",
       "1                      9790  sao bernardo do campo             SP  \n",
       "2                      1151              sao paulo             SP  \n",
       "3                      8775        mogi das cruzes             SP  \n",
       "4                     13056               campinas             SP  "
      ]
     },
     "execution_count": 3,
     "metadata": {},
     "output_type": "execute_result"
    }
   ],
   "source": [
    "# membaca dataset customers_dataset.csv menggunakan pandas dan menyimpannya dalam DataFrame bernama customers_df. \n",
    "customers_df = pd.read_csv(\"E-Commerce Public Dataset/customers_dataset.csv\")\n",
    "customers_df.head()"
   ]
  },
  {
   "cell_type": "code",
   "execution_count": 4,
   "id": "086b1871-b873-440b-92d2-820b0dc36103",
   "metadata": {},
   "outputs": [
    {
     "data": {
      "text/html": [
       "<div>\n",
       "<style scoped>\n",
       "    .dataframe tbody tr th:only-of-type {\n",
       "        vertical-align: middle;\n",
       "    }\n",
       "\n",
       "    .dataframe tbody tr th {\n",
       "        vertical-align: top;\n",
       "    }\n",
       "\n",
       "    .dataframe thead th {\n",
       "        text-align: right;\n",
       "    }\n",
       "</style>\n",
       "<table border=\"1\" class=\"dataframe\">\n",
       "  <thead>\n",
       "    <tr style=\"text-align: right;\">\n",
       "      <th></th>\n",
       "      <th>geolocation_zip_code_prefix</th>\n",
       "      <th>geolocation_lat</th>\n",
       "      <th>geolocation_lng</th>\n",
       "      <th>geolocation_city</th>\n",
       "      <th>geolocation_state</th>\n",
       "    </tr>\n",
       "  </thead>\n",
       "  <tbody>\n",
       "    <tr>\n",
       "      <th>0</th>\n",
       "      <td>1037</td>\n",
       "      <td>-23.545621</td>\n",
       "      <td>-46.639292</td>\n",
       "      <td>sao paulo</td>\n",
       "      <td>SP</td>\n",
       "    </tr>\n",
       "    <tr>\n",
       "      <th>1</th>\n",
       "      <td>1046</td>\n",
       "      <td>-23.546081</td>\n",
       "      <td>-46.644820</td>\n",
       "      <td>sao paulo</td>\n",
       "      <td>SP</td>\n",
       "    </tr>\n",
       "    <tr>\n",
       "      <th>2</th>\n",
       "      <td>1046</td>\n",
       "      <td>-23.546129</td>\n",
       "      <td>-46.642951</td>\n",
       "      <td>sao paulo</td>\n",
       "      <td>SP</td>\n",
       "    </tr>\n",
       "    <tr>\n",
       "      <th>3</th>\n",
       "      <td>1041</td>\n",
       "      <td>-23.544392</td>\n",
       "      <td>-46.639499</td>\n",
       "      <td>sao paulo</td>\n",
       "      <td>SP</td>\n",
       "    </tr>\n",
       "    <tr>\n",
       "      <th>4</th>\n",
       "      <td>1035</td>\n",
       "      <td>-23.541578</td>\n",
       "      <td>-46.641607</td>\n",
       "      <td>sao paulo</td>\n",
       "      <td>SP</td>\n",
       "    </tr>\n",
       "  </tbody>\n",
       "</table>\n",
       "</div>"
      ],
      "text/plain": [
       "   geolocation_zip_code_prefix  geolocation_lat  geolocation_lng  \\\n",
       "0                         1037       -23.545621       -46.639292   \n",
       "1                         1046       -23.546081       -46.644820   \n",
       "2                         1046       -23.546129       -46.642951   \n",
       "3                         1041       -23.544392       -46.639499   \n",
       "4                         1035       -23.541578       -46.641607   \n",
       "\n",
       "  geolocation_city geolocation_state  \n",
       "0        sao paulo                SP  \n",
       "1        sao paulo                SP  \n",
       "2        sao paulo                SP  \n",
       "3        sao paulo                SP  \n",
       "4        sao paulo                SP  "
      ]
     },
     "execution_count": 4,
     "metadata": {},
     "output_type": "execute_result"
    }
   ],
   "source": [
    "# membaca dataset geolocation_dataset.csv menggunakan pandas dan menyimpannya dalam DataFrame bernama geolocations_df. \n",
    "geolocations_df = pd.read_csv(\"E-Commerce Public Dataset/geolocation_dataset.csv\")\n",
    "geolocations_df.head()"
   ]
  },
  {
   "cell_type": "code",
   "execution_count": 5,
   "id": "6dd9c72d-bca0-4d54-a62f-2057000cd793",
   "metadata": {},
   "outputs": [
    {
     "data": {
      "text/html": [
       "<div>\n",
       "<style scoped>\n",
       "    .dataframe tbody tr th:only-of-type {\n",
       "        vertical-align: middle;\n",
       "    }\n",
       "\n",
       "    .dataframe tbody tr th {\n",
       "        vertical-align: top;\n",
       "    }\n",
       "\n",
       "    .dataframe thead th {\n",
       "        text-align: right;\n",
       "    }\n",
       "</style>\n",
       "<table border=\"1\" class=\"dataframe\">\n",
       "  <thead>\n",
       "    <tr style=\"text-align: right;\">\n",
       "      <th></th>\n",
       "      <th>order_id</th>\n",
       "      <th>order_item_id</th>\n",
       "      <th>product_id</th>\n",
       "      <th>seller_id</th>\n",
       "      <th>shipping_limit_date</th>\n",
       "      <th>price</th>\n",
       "      <th>freight_value</th>\n",
       "    </tr>\n",
       "  </thead>\n",
       "  <tbody>\n",
       "    <tr>\n",
       "      <th>0</th>\n",
       "      <td>00010242fe8c5a6d1ba2dd792cb16214</td>\n",
       "      <td>1</td>\n",
       "      <td>4244733e06e7ecb4970a6e2683c13e61</td>\n",
       "      <td>48436dade18ac8b2bce089ec2a041202</td>\n",
       "      <td>2017-09-19 09:45:35</td>\n",
       "      <td>58.90</td>\n",
       "      <td>13.29</td>\n",
       "    </tr>\n",
       "    <tr>\n",
       "      <th>1</th>\n",
       "      <td>00018f77f2f0320c557190d7a144bdd3</td>\n",
       "      <td>1</td>\n",
       "      <td>e5f2d52b802189ee658865ca93d83a8f</td>\n",
       "      <td>dd7ddc04e1b6c2c614352b383efe2d36</td>\n",
       "      <td>2017-05-03 11:05:13</td>\n",
       "      <td>239.90</td>\n",
       "      <td>19.93</td>\n",
       "    </tr>\n",
       "    <tr>\n",
       "      <th>2</th>\n",
       "      <td>000229ec398224ef6ca0657da4fc703e</td>\n",
       "      <td>1</td>\n",
       "      <td>c777355d18b72b67abbeef9df44fd0fd</td>\n",
       "      <td>5b51032eddd242adc84c38acab88f23d</td>\n",
       "      <td>2018-01-18 14:48:30</td>\n",
       "      <td>199.00</td>\n",
       "      <td>17.87</td>\n",
       "    </tr>\n",
       "    <tr>\n",
       "      <th>3</th>\n",
       "      <td>00024acbcdf0a6daa1e931b038114c75</td>\n",
       "      <td>1</td>\n",
       "      <td>7634da152a4610f1595efa32f14722fc</td>\n",
       "      <td>9d7a1d34a5052409006425275ba1c2b4</td>\n",
       "      <td>2018-08-15 10:10:18</td>\n",
       "      <td>12.99</td>\n",
       "      <td>12.79</td>\n",
       "    </tr>\n",
       "    <tr>\n",
       "      <th>4</th>\n",
       "      <td>00042b26cf59d7ce69dfabb4e55b4fd9</td>\n",
       "      <td>1</td>\n",
       "      <td>ac6c3623068f30de03045865e4e10089</td>\n",
       "      <td>df560393f3a51e74553ab94004ba5c87</td>\n",
       "      <td>2017-02-13 13:57:51</td>\n",
       "      <td>199.90</td>\n",
       "      <td>18.14</td>\n",
       "    </tr>\n",
       "  </tbody>\n",
       "</table>\n",
       "</div>"
      ],
      "text/plain": [
       "                           order_id  order_item_id  \\\n",
       "0  00010242fe8c5a6d1ba2dd792cb16214              1   \n",
       "1  00018f77f2f0320c557190d7a144bdd3              1   \n",
       "2  000229ec398224ef6ca0657da4fc703e              1   \n",
       "3  00024acbcdf0a6daa1e931b038114c75              1   \n",
       "4  00042b26cf59d7ce69dfabb4e55b4fd9              1   \n",
       "\n",
       "                         product_id                         seller_id  \\\n",
       "0  4244733e06e7ecb4970a6e2683c13e61  48436dade18ac8b2bce089ec2a041202   \n",
       "1  e5f2d52b802189ee658865ca93d83a8f  dd7ddc04e1b6c2c614352b383efe2d36   \n",
       "2  c777355d18b72b67abbeef9df44fd0fd  5b51032eddd242adc84c38acab88f23d   \n",
       "3  7634da152a4610f1595efa32f14722fc  9d7a1d34a5052409006425275ba1c2b4   \n",
       "4  ac6c3623068f30de03045865e4e10089  df560393f3a51e74553ab94004ba5c87   \n",
       "\n",
       "   shipping_limit_date   price  freight_value  \n",
       "0  2017-09-19 09:45:35   58.90          13.29  \n",
       "1  2017-05-03 11:05:13  239.90          19.93  \n",
       "2  2018-01-18 14:48:30  199.00          17.87  \n",
       "3  2018-08-15 10:10:18   12.99          12.79  \n",
       "4  2017-02-13 13:57:51  199.90          18.14  "
      ]
     },
     "execution_count": 5,
     "metadata": {},
     "output_type": "execute_result"
    }
   ],
   "source": [
    "# membaca dataset order_items_dataset.csv menggunakan pandas dan menyimpannya dalam DataFrame bernama orders_df. \n",
    "orders_df = pd.read_csv(\"E-Commerce Public Dataset/order_items_dataset.csv\")\n",
    "orders_df.head()"
   ]
  },
  {
   "cell_type": "code",
   "execution_count": 6,
   "id": "2bf068e4-6308-43cc-afc8-dcd0c83bb560",
   "metadata": {},
   "outputs": [
    {
     "data": {
      "text/html": [
       "<div>\n",
       "<style scoped>\n",
       "    .dataframe tbody tr th:only-of-type {\n",
       "        vertical-align: middle;\n",
       "    }\n",
       "\n",
       "    .dataframe tbody tr th {\n",
       "        vertical-align: top;\n",
       "    }\n",
       "\n",
       "    .dataframe thead th {\n",
       "        text-align: right;\n",
       "    }\n",
       "</style>\n",
       "<table border=\"1\" class=\"dataframe\">\n",
       "  <thead>\n",
       "    <tr style=\"text-align: right;\">\n",
       "      <th></th>\n",
       "      <th>order_id</th>\n",
       "      <th>payment_sequential</th>\n",
       "      <th>payment_type</th>\n",
       "      <th>payment_installments</th>\n",
       "      <th>payment_value</th>\n",
       "    </tr>\n",
       "  </thead>\n",
       "  <tbody>\n",
       "    <tr>\n",
       "      <th>0</th>\n",
       "      <td>b81ef226f3fe1789b1e8b2acac839d17</td>\n",
       "      <td>1</td>\n",
       "      <td>credit_card</td>\n",
       "      <td>8</td>\n",
       "      <td>99.33</td>\n",
       "    </tr>\n",
       "    <tr>\n",
       "      <th>1</th>\n",
       "      <td>a9810da82917af2d9aefd1278f1dcfa0</td>\n",
       "      <td>1</td>\n",
       "      <td>credit_card</td>\n",
       "      <td>1</td>\n",
       "      <td>24.39</td>\n",
       "    </tr>\n",
       "    <tr>\n",
       "      <th>2</th>\n",
       "      <td>25e8ea4e93396b6fa0d3dd708e76c1bd</td>\n",
       "      <td>1</td>\n",
       "      <td>credit_card</td>\n",
       "      <td>1</td>\n",
       "      <td>65.71</td>\n",
       "    </tr>\n",
       "    <tr>\n",
       "      <th>3</th>\n",
       "      <td>ba78997921bbcdc1373bb41e913ab953</td>\n",
       "      <td>1</td>\n",
       "      <td>credit_card</td>\n",
       "      <td>8</td>\n",
       "      <td>107.78</td>\n",
       "    </tr>\n",
       "    <tr>\n",
       "      <th>4</th>\n",
       "      <td>42fdf880ba16b47b59251dd489d4441a</td>\n",
       "      <td>1</td>\n",
       "      <td>credit_card</td>\n",
       "      <td>2</td>\n",
       "      <td>128.45</td>\n",
       "    </tr>\n",
       "  </tbody>\n",
       "</table>\n",
       "</div>"
      ],
      "text/plain": [
       "                           order_id  payment_sequential payment_type  \\\n",
       "0  b81ef226f3fe1789b1e8b2acac839d17                   1  credit_card   \n",
       "1  a9810da82917af2d9aefd1278f1dcfa0                   1  credit_card   \n",
       "2  25e8ea4e93396b6fa0d3dd708e76c1bd                   1  credit_card   \n",
       "3  ba78997921bbcdc1373bb41e913ab953                   1  credit_card   \n",
       "4  42fdf880ba16b47b59251dd489d4441a                   1  credit_card   \n",
       "\n",
       "   payment_installments  payment_value  \n",
       "0                     8          99.33  \n",
       "1                     1          24.39  \n",
       "2                     1          65.71  \n",
       "3                     8         107.78  \n",
       "4                     2         128.45  "
      ]
     },
     "execution_count": 6,
     "metadata": {},
     "output_type": "execute_result"
    }
   ],
   "source": [
    "# membaca dataset order_payments_dataset.csv menggunakan pandas dan menyimpannya dalam DataFrame bernama orders__payments_df.\n",
    "orders_payments_df = pd.read_csv(\"E-Commerce Public Dataset/order_payments_dataset.csv\")\n",
    "orders_payments_df.head()"
   ]
  },
  {
   "cell_type": "code",
   "execution_count": 7,
   "id": "cda4ff68-6d67-4313-bafd-0c5b4ed0c275",
   "metadata": {},
   "outputs": [
    {
     "data": {
      "text/html": [
       "<div>\n",
       "<style scoped>\n",
       "    .dataframe tbody tr th:only-of-type {\n",
       "        vertical-align: middle;\n",
       "    }\n",
       "\n",
       "    .dataframe tbody tr th {\n",
       "        vertical-align: top;\n",
       "    }\n",
       "\n",
       "    .dataframe thead th {\n",
       "        text-align: right;\n",
       "    }\n",
       "</style>\n",
       "<table border=\"1\" class=\"dataframe\">\n",
       "  <thead>\n",
       "    <tr style=\"text-align: right;\">\n",
       "      <th></th>\n",
       "      <th>order_id</th>\n",
       "      <th>customer_id</th>\n",
       "      <th>order_status</th>\n",
       "      <th>order_purchase_timestamp</th>\n",
       "      <th>order_approved_at</th>\n",
       "      <th>order_delivered_carrier_date</th>\n",
       "      <th>order_delivered_customer_date</th>\n",
       "      <th>order_estimated_delivery_date</th>\n",
       "    </tr>\n",
       "  </thead>\n",
       "  <tbody>\n",
       "    <tr>\n",
       "      <th>0</th>\n",
       "      <td>e481f51cbdc54678b7cc49136f2d6af7</td>\n",
       "      <td>9ef432eb6251297304e76186b10a928d</td>\n",
       "      <td>delivered</td>\n",
       "      <td>2017-10-02 10:56:33</td>\n",
       "      <td>2017-10-02 11:07:15</td>\n",
       "      <td>2017-10-04 19:55:00</td>\n",
       "      <td>2017-10-10 21:25:13</td>\n",
       "      <td>2017-10-18 00:00:00</td>\n",
       "    </tr>\n",
       "    <tr>\n",
       "      <th>1</th>\n",
       "      <td>53cdb2fc8bc7dce0b6741e2150273451</td>\n",
       "      <td>b0830fb4747a6c6d20dea0b8c802d7ef</td>\n",
       "      <td>delivered</td>\n",
       "      <td>2018-07-24 20:41:37</td>\n",
       "      <td>2018-07-26 03:24:27</td>\n",
       "      <td>2018-07-26 14:31:00</td>\n",
       "      <td>2018-08-07 15:27:45</td>\n",
       "      <td>2018-08-13 00:00:00</td>\n",
       "    </tr>\n",
       "    <tr>\n",
       "      <th>2</th>\n",
       "      <td>47770eb9100c2d0c44946d9cf07ec65d</td>\n",
       "      <td>41ce2a54c0b03bf3443c3d931a367089</td>\n",
       "      <td>delivered</td>\n",
       "      <td>2018-08-08 08:38:49</td>\n",
       "      <td>2018-08-08 08:55:23</td>\n",
       "      <td>2018-08-08 13:50:00</td>\n",
       "      <td>2018-08-17 18:06:29</td>\n",
       "      <td>2018-09-04 00:00:00</td>\n",
       "    </tr>\n",
       "    <tr>\n",
       "      <th>3</th>\n",
       "      <td>949d5b44dbf5de918fe9c16f97b45f8a</td>\n",
       "      <td>f88197465ea7920adcdbec7375364d82</td>\n",
       "      <td>delivered</td>\n",
       "      <td>2017-11-18 19:28:06</td>\n",
       "      <td>2017-11-18 19:45:59</td>\n",
       "      <td>2017-11-22 13:39:59</td>\n",
       "      <td>2017-12-02 00:28:42</td>\n",
       "      <td>2017-12-15 00:00:00</td>\n",
       "    </tr>\n",
       "    <tr>\n",
       "      <th>4</th>\n",
       "      <td>ad21c59c0840e6cb83a9ceb5573f8159</td>\n",
       "      <td>8ab97904e6daea8866dbdbc4fb7aad2c</td>\n",
       "      <td>delivered</td>\n",
       "      <td>2018-02-13 21:18:39</td>\n",
       "      <td>2018-02-13 22:20:29</td>\n",
       "      <td>2018-02-14 19:46:34</td>\n",
       "      <td>2018-02-16 18:17:02</td>\n",
       "      <td>2018-02-26 00:00:00</td>\n",
       "    </tr>\n",
       "  </tbody>\n",
       "</table>\n",
       "</div>"
      ],
      "text/plain": [
       "                           order_id                       customer_id  \\\n",
       "0  e481f51cbdc54678b7cc49136f2d6af7  9ef432eb6251297304e76186b10a928d   \n",
       "1  53cdb2fc8bc7dce0b6741e2150273451  b0830fb4747a6c6d20dea0b8c802d7ef   \n",
       "2  47770eb9100c2d0c44946d9cf07ec65d  41ce2a54c0b03bf3443c3d931a367089   \n",
       "3  949d5b44dbf5de918fe9c16f97b45f8a  f88197465ea7920adcdbec7375364d82   \n",
       "4  ad21c59c0840e6cb83a9ceb5573f8159  8ab97904e6daea8866dbdbc4fb7aad2c   \n",
       "\n",
       "  order_status order_purchase_timestamp    order_approved_at  \\\n",
       "0    delivered      2017-10-02 10:56:33  2017-10-02 11:07:15   \n",
       "1    delivered      2018-07-24 20:41:37  2018-07-26 03:24:27   \n",
       "2    delivered      2018-08-08 08:38:49  2018-08-08 08:55:23   \n",
       "3    delivered      2017-11-18 19:28:06  2017-11-18 19:45:59   \n",
       "4    delivered      2018-02-13 21:18:39  2018-02-13 22:20:29   \n",
       "\n",
       "  order_delivered_carrier_date order_delivered_customer_date  \\\n",
       "0          2017-10-04 19:55:00           2017-10-10 21:25:13   \n",
       "1          2018-07-26 14:31:00           2018-08-07 15:27:45   \n",
       "2          2018-08-08 13:50:00           2018-08-17 18:06:29   \n",
       "3          2017-11-22 13:39:59           2017-12-02 00:28:42   \n",
       "4          2018-02-14 19:46:34           2018-02-16 18:17:02   \n",
       "\n",
       "  order_estimated_delivery_date  \n",
       "0           2017-10-18 00:00:00  \n",
       "1           2018-08-13 00:00:00  \n",
       "2           2018-09-04 00:00:00  \n",
       "3           2017-12-15 00:00:00  \n",
       "4           2018-02-26 00:00:00  "
      ]
     },
     "execution_count": 7,
     "metadata": {},
     "output_type": "execute_result"
    }
   ],
   "source": [
    "# membaca dataset orders_dataset.csv menggunakan pandas dan menyimpannya dalam DataFrame bernama orders_ori_df.\n",
    "orders_ori_df = pd.read_csv(\"E-Commerce Public Dataset/orders_dataset.csv\")\n",
    "orders_ori_df.head()"
   ]
  },
  {
   "cell_type": "code",
   "execution_count": 8,
   "id": "ff260dcb-c2ed-4539-8ed3-d75702d9124d",
   "metadata": {},
   "outputs": [
    {
     "data": {
      "text/html": [
       "<div>\n",
       "<style scoped>\n",
       "    .dataframe tbody tr th:only-of-type {\n",
       "        vertical-align: middle;\n",
       "    }\n",
       "\n",
       "    .dataframe tbody tr th {\n",
       "        vertical-align: top;\n",
       "    }\n",
       "\n",
       "    .dataframe thead th {\n",
       "        text-align: right;\n",
       "    }\n",
       "</style>\n",
       "<table border=\"1\" class=\"dataframe\">\n",
       "  <thead>\n",
       "    <tr style=\"text-align: right;\">\n",
       "      <th></th>\n",
       "      <th>product_category_name</th>\n",
       "      <th>product_category_name_english</th>\n",
       "    </tr>\n",
       "  </thead>\n",
       "  <tbody>\n",
       "    <tr>\n",
       "      <th>0</th>\n",
       "      <td>beleza_saude</td>\n",
       "      <td>health_beauty</td>\n",
       "    </tr>\n",
       "    <tr>\n",
       "      <th>1</th>\n",
       "      <td>informatica_acessorios</td>\n",
       "      <td>computers_accessories</td>\n",
       "    </tr>\n",
       "    <tr>\n",
       "      <th>2</th>\n",
       "      <td>automotivo</td>\n",
       "      <td>auto</td>\n",
       "    </tr>\n",
       "    <tr>\n",
       "      <th>3</th>\n",
       "      <td>cama_mesa_banho</td>\n",
       "      <td>bed_bath_table</td>\n",
       "    </tr>\n",
       "    <tr>\n",
       "      <th>4</th>\n",
       "      <td>moveis_decoracao</td>\n",
       "      <td>furniture_decor</td>\n",
       "    </tr>\n",
       "  </tbody>\n",
       "</table>\n",
       "</div>"
      ],
      "text/plain": [
       "    product_category_name product_category_name_english\n",
       "0            beleza_saude                 health_beauty\n",
       "1  informatica_acessorios         computers_accessories\n",
       "2              automotivo                          auto\n",
       "3         cama_mesa_banho                bed_bath_table\n",
       "4        moveis_decoracao               furniture_decor"
      ]
     },
     "execution_count": 8,
     "metadata": {},
     "output_type": "execute_result"
    }
   ],
   "source": [
    "# membaca product_category_name_translation.csv menggunakan pandas dan menyimpannya dalam DataFrame bernama product_category_df.\n",
    "product_category_df = pd.read_csv(\"E-Commerce Public Dataset/product_category_name_translation.csv\")\n",
    "product_category_df.head()"
   ]
  },
  {
   "cell_type": "code",
   "execution_count": 9,
   "id": "4a97307e-87f4-4ed8-831c-83bdd1a30c42",
   "metadata": {},
   "outputs": [
    {
     "data": {
      "text/html": [
       "<div>\n",
       "<style scoped>\n",
       "    .dataframe tbody tr th:only-of-type {\n",
       "        vertical-align: middle;\n",
       "    }\n",
       "\n",
       "    .dataframe tbody tr th {\n",
       "        vertical-align: top;\n",
       "    }\n",
       "\n",
       "    .dataframe thead th {\n",
       "        text-align: right;\n",
       "    }\n",
       "</style>\n",
       "<table border=\"1\" class=\"dataframe\">\n",
       "  <thead>\n",
       "    <tr style=\"text-align: right;\">\n",
       "      <th></th>\n",
       "      <th>review_id</th>\n",
       "      <th>order_id</th>\n",
       "      <th>review_score</th>\n",
       "      <th>review_comment_title</th>\n",
       "      <th>review_comment_message</th>\n",
       "      <th>review_creation_date</th>\n",
       "      <th>review_answer_timestamp</th>\n",
       "    </tr>\n",
       "  </thead>\n",
       "  <tbody>\n",
       "    <tr>\n",
       "      <th>0</th>\n",
       "      <td>7bc2406110b926393aa56f80a40eba40</td>\n",
       "      <td>73fc7af87114b39712e6da79b0a377eb</td>\n",
       "      <td>4</td>\n",
       "      <td>NaN</td>\n",
       "      <td>NaN</td>\n",
       "      <td>2018-01-18 00:00:00</td>\n",
       "      <td>2018-01-18 21:46:59</td>\n",
       "    </tr>\n",
       "    <tr>\n",
       "      <th>1</th>\n",
       "      <td>80e641a11e56f04c1ad469d5645fdfde</td>\n",
       "      <td>a548910a1c6147796b98fdf73dbeba33</td>\n",
       "      <td>5</td>\n",
       "      <td>NaN</td>\n",
       "      <td>NaN</td>\n",
       "      <td>2018-03-10 00:00:00</td>\n",
       "      <td>2018-03-11 03:05:13</td>\n",
       "    </tr>\n",
       "    <tr>\n",
       "      <th>2</th>\n",
       "      <td>228ce5500dc1d8e020d8d1322874b6f0</td>\n",
       "      <td>f9e4b658b201a9f2ecdecbb34bed034b</td>\n",
       "      <td>5</td>\n",
       "      <td>NaN</td>\n",
       "      <td>NaN</td>\n",
       "      <td>2018-02-17 00:00:00</td>\n",
       "      <td>2018-02-18 14:36:24</td>\n",
       "    </tr>\n",
       "    <tr>\n",
       "      <th>3</th>\n",
       "      <td>e64fb393e7b32834bb789ff8bb30750e</td>\n",
       "      <td>658677c97b385a9be170737859d3511b</td>\n",
       "      <td>5</td>\n",
       "      <td>NaN</td>\n",
       "      <td>Recebi bem antes do prazo estipulado.</td>\n",
       "      <td>2017-04-21 00:00:00</td>\n",
       "      <td>2017-04-21 22:02:06</td>\n",
       "    </tr>\n",
       "    <tr>\n",
       "      <th>4</th>\n",
       "      <td>f7c4243c7fe1938f181bec41a392bdeb</td>\n",
       "      <td>8e6bfb81e283fa7e4f11123a3fb894f1</td>\n",
       "      <td>5</td>\n",
       "      <td>NaN</td>\n",
       "      <td>Parabéns lojas lannister adorei comprar pela I...</td>\n",
       "      <td>2018-03-01 00:00:00</td>\n",
       "      <td>2018-03-02 10:26:53</td>\n",
       "    </tr>\n",
       "  </tbody>\n",
       "</table>\n",
       "</div>"
      ],
      "text/plain": [
       "                          review_id                          order_id  \\\n",
       "0  7bc2406110b926393aa56f80a40eba40  73fc7af87114b39712e6da79b0a377eb   \n",
       "1  80e641a11e56f04c1ad469d5645fdfde  a548910a1c6147796b98fdf73dbeba33   \n",
       "2  228ce5500dc1d8e020d8d1322874b6f0  f9e4b658b201a9f2ecdecbb34bed034b   \n",
       "3  e64fb393e7b32834bb789ff8bb30750e  658677c97b385a9be170737859d3511b   \n",
       "4  f7c4243c7fe1938f181bec41a392bdeb  8e6bfb81e283fa7e4f11123a3fb894f1   \n",
       "\n",
       "   review_score review_comment_title  \\\n",
       "0             4                  NaN   \n",
       "1             5                  NaN   \n",
       "2             5                  NaN   \n",
       "3             5                  NaN   \n",
       "4             5                  NaN   \n",
       "\n",
       "                              review_comment_message review_creation_date  \\\n",
       "0                                                NaN  2018-01-18 00:00:00   \n",
       "1                                                NaN  2018-03-10 00:00:00   \n",
       "2                                                NaN  2018-02-17 00:00:00   \n",
       "3              Recebi bem antes do prazo estipulado.  2017-04-21 00:00:00   \n",
       "4  Parabéns lojas lannister adorei comprar pela I...  2018-03-01 00:00:00   \n",
       "\n",
       "  review_answer_timestamp  \n",
       "0     2018-01-18 21:46:59  \n",
       "1     2018-03-11 03:05:13  \n",
       "2     2018-02-18 14:36:24  \n",
       "3     2017-04-21 22:02:06  \n",
       "4     2018-03-02 10:26:53  "
      ]
     },
     "execution_count": 9,
     "metadata": {},
     "output_type": "execute_result"
    }
   ],
   "source": [
    "# membaca dataset order_reviews_dataset.csv menggunakan pandas dan menyimpannya dalam DataFrame bernama orders_reviews_df.\n",
    "orders_reviews_df = pd.read_csv(\"E-Commerce Public Dataset/order_reviews_dataset.csv\")\n",
    "orders_reviews_df.head()"
   ]
  },
  {
   "cell_type": "code",
   "execution_count": 10,
   "id": "ba6bd524-7927-45c4-b950-264e4fb290d9",
   "metadata": {},
   "outputs": [
    {
     "data": {
      "text/html": [
       "<div>\n",
       "<style scoped>\n",
       "    .dataframe tbody tr th:only-of-type {\n",
       "        vertical-align: middle;\n",
       "    }\n",
       "\n",
       "    .dataframe tbody tr th {\n",
       "        vertical-align: top;\n",
       "    }\n",
       "\n",
       "    .dataframe thead th {\n",
       "        text-align: right;\n",
       "    }\n",
       "</style>\n",
       "<table border=\"1\" class=\"dataframe\">\n",
       "  <thead>\n",
       "    <tr style=\"text-align: right;\">\n",
       "      <th></th>\n",
       "      <th>product_id</th>\n",
       "      <th>product_category_name</th>\n",
       "      <th>product_name_lenght</th>\n",
       "      <th>product_description_lenght</th>\n",
       "      <th>product_photos_qty</th>\n",
       "      <th>product_weight_g</th>\n",
       "      <th>product_length_cm</th>\n",
       "      <th>product_height_cm</th>\n",
       "      <th>product_width_cm</th>\n",
       "    </tr>\n",
       "  </thead>\n",
       "  <tbody>\n",
       "    <tr>\n",
       "      <th>0</th>\n",
       "      <td>1e9e8ef04dbcff4541ed26657ea517e5</td>\n",
       "      <td>perfumaria</td>\n",
       "      <td>40.0</td>\n",
       "      <td>287.0</td>\n",
       "      <td>1.0</td>\n",
       "      <td>225.0</td>\n",
       "      <td>16.0</td>\n",
       "      <td>10.0</td>\n",
       "      <td>14.0</td>\n",
       "    </tr>\n",
       "    <tr>\n",
       "      <th>1</th>\n",
       "      <td>3aa071139cb16b67ca9e5dea641aaa2f</td>\n",
       "      <td>artes</td>\n",
       "      <td>44.0</td>\n",
       "      <td>276.0</td>\n",
       "      <td>1.0</td>\n",
       "      <td>1000.0</td>\n",
       "      <td>30.0</td>\n",
       "      <td>18.0</td>\n",
       "      <td>20.0</td>\n",
       "    </tr>\n",
       "    <tr>\n",
       "      <th>2</th>\n",
       "      <td>96bd76ec8810374ed1b65e291975717f</td>\n",
       "      <td>esporte_lazer</td>\n",
       "      <td>46.0</td>\n",
       "      <td>250.0</td>\n",
       "      <td>1.0</td>\n",
       "      <td>154.0</td>\n",
       "      <td>18.0</td>\n",
       "      <td>9.0</td>\n",
       "      <td>15.0</td>\n",
       "    </tr>\n",
       "    <tr>\n",
       "      <th>3</th>\n",
       "      <td>cef67bcfe19066a932b7673e239eb23d</td>\n",
       "      <td>bebes</td>\n",
       "      <td>27.0</td>\n",
       "      <td>261.0</td>\n",
       "      <td>1.0</td>\n",
       "      <td>371.0</td>\n",
       "      <td>26.0</td>\n",
       "      <td>4.0</td>\n",
       "      <td>26.0</td>\n",
       "    </tr>\n",
       "    <tr>\n",
       "      <th>4</th>\n",
       "      <td>9dc1a7de274444849c219cff195d0b71</td>\n",
       "      <td>utilidades_domesticas</td>\n",
       "      <td>37.0</td>\n",
       "      <td>402.0</td>\n",
       "      <td>4.0</td>\n",
       "      <td>625.0</td>\n",
       "      <td>20.0</td>\n",
       "      <td>17.0</td>\n",
       "      <td>13.0</td>\n",
       "    </tr>\n",
       "  </tbody>\n",
       "</table>\n",
       "</div>"
      ],
      "text/plain": [
       "                         product_id  product_category_name  \\\n",
       "0  1e9e8ef04dbcff4541ed26657ea517e5             perfumaria   \n",
       "1  3aa071139cb16b67ca9e5dea641aaa2f                  artes   \n",
       "2  96bd76ec8810374ed1b65e291975717f          esporte_lazer   \n",
       "3  cef67bcfe19066a932b7673e239eb23d                  bebes   \n",
       "4  9dc1a7de274444849c219cff195d0b71  utilidades_domesticas   \n",
       "\n",
       "   product_name_lenght  product_description_lenght  product_photos_qty  \\\n",
       "0                 40.0                       287.0                 1.0   \n",
       "1                 44.0                       276.0                 1.0   \n",
       "2                 46.0                       250.0                 1.0   \n",
       "3                 27.0                       261.0                 1.0   \n",
       "4                 37.0                       402.0                 4.0   \n",
       "\n",
       "   product_weight_g  product_length_cm  product_height_cm  product_width_cm  \n",
       "0             225.0               16.0               10.0              14.0  \n",
       "1            1000.0               30.0               18.0              20.0  \n",
       "2             154.0               18.0                9.0              15.0  \n",
       "3             371.0               26.0                4.0              26.0  \n",
       "4             625.0               20.0               17.0              13.0  "
      ]
     },
     "execution_count": 10,
     "metadata": {},
     "output_type": "execute_result"
    }
   ],
   "source": [
    "# membaca dataset products_dataset.csv menggunakan pandas dan menyimpannya dalam DataFrame bernama products_df.\n",
    "products_df = pd.read_csv(\"E-Commerce Public Dataset/products_dataset.csv\")\n",
    "products_df.head()"
   ]
  },
  {
   "cell_type": "code",
   "execution_count": 11,
   "id": "70c6d1d2-9c40-4c15-a493-c583dff80d12",
   "metadata": {},
   "outputs": [
    {
     "data": {
      "text/html": [
       "<div>\n",
       "<style scoped>\n",
       "    .dataframe tbody tr th:only-of-type {\n",
       "        vertical-align: middle;\n",
       "    }\n",
       "\n",
       "    .dataframe tbody tr th {\n",
       "        vertical-align: top;\n",
       "    }\n",
       "\n",
       "    .dataframe thead th {\n",
       "        text-align: right;\n",
       "    }\n",
       "</style>\n",
       "<table border=\"1\" class=\"dataframe\">\n",
       "  <thead>\n",
       "    <tr style=\"text-align: right;\">\n",
       "      <th></th>\n",
       "      <th>seller_id</th>\n",
       "      <th>seller_zip_code_prefix</th>\n",
       "      <th>seller_city</th>\n",
       "      <th>seller_state</th>\n",
       "    </tr>\n",
       "  </thead>\n",
       "  <tbody>\n",
       "    <tr>\n",
       "      <th>0</th>\n",
       "      <td>3442f8959a84dea7ee197c632cb2df15</td>\n",
       "      <td>13023</td>\n",
       "      <td>campinas</td>\n",
       "      <td>SP</td>\n",
       "    </tr>\n",
       "    <tr>\n",
       "      <th>1</th>\n",
       "      <td>d1b65fc7debc3361ea86b5f14c68d2e2</td>\n",
       "      <td>13844</td>\n",
       "      <td>mogi guacu</td>\n",
       "      <td>SP</td>\n",
       "    </tr>\n",
       "    <tr>\n",
       "      <th>2</th>\n",
       "      <td>ce3ad9de960102d0677a81f5d0bb7b2d</td>\n",
       "      <td>20031</td>\n",
       "      <td>rio de janeiro</td>\n",
       "      <td>RJ</td>\n",
       "    </tr>\n",
       "    <tr>\n",
       "      <th>3</th>\n",
       "      <td>c0f3eea2e14555b6faeea3dd58c1b1c3</td>\n",
       "      <td>4195</td>\n",
       "      <td>sao paulo</td>\n",
       "      <td>SP</td>\n",
       "    </tr>\n",
       "    <tr>\n",
       "      <th>4</th>\n",
       "      <td>51a04a8a6bdcb23deccc82b0b80742cf</td>\n",
       "      <td>12914</td>\n",
       "      <td>braganca paulista</td>\n",
       "      <td>SP</td>\n",
       "    </tr>\n",
       "  </tbody>\n",
       "</table>\n",
       "</div>"
      ],
      "text/plain": [
       "                          seller_id  seller_zip_code_prefix  \\\n",
       "0  3442f8959a84dea7ee197c632cb2df15                   13023   \n",
       "1  d1b65fc7debc3361ea86b5f14c68d2e2                   13844   \n",
       "2  ce3ad9de960102d0677a81f5d0bb7b2d                   20031   \n",
       "3  c0f3eea2e14555b6faeea3dd58c1b1c3                    4195   \n",
       "4  51a04a8a6bdcb23deccc82b0b80742cf                   12914   \n",
       "\n",
       "         seller_city seller_state  \n",
       "0           campinas           SP  \n",
       "1         mogi guacu           SP  \n",
       "2     rio de janeiro           RJ  \n",
       "3          sao paulo           SP  \n",
       "4  braganca paulista           SP  "
      ]
     },
     "execution_count": 11,
     "metadata": {},
     "output_type": "execute_result"
    }
   ],
   "source": [
    "# membaca dataset sellers_dataset.csv menggunakan pandas dan menyimpannya dalam DataFrame bernama sellers_df.\n",
    "sellers_df = pd.read_csv(\"E-Commerce Public Dataset/sellers_dataset.csv\")\n",
    "sellers_df.head()"
   ]
  },
  {
   "cell_type": "markdown",
   "id": "ec9fb4f0-9f61-4dc8-b664-e1c76e3ddc51",
   "metadata": {
    "jp-MarkdownHeadingCollapsed": true
   },
   "source": [
    "##### Insight\n",
    "Mengumpulkan dan membaca dataset serta menyimpannya pada sebuah data frame"
   ]
  },
  {
   "cell_type": "markdown",
   "id": "e74a366a-9007-43fa-9bb5-7985ecdb78c9",
   "metadata": {
    "jp-MarkdownHeadingCollapsed": true
   },
   "source": [
    "### Assessing Data"
   ]
  },
  {
   "cell_type": "markdown",
   "id": "2892ec91-1597-4a49-8792-daa9a42136c5",
   "metadata": {
    "jp-MarkdownHeadingCollapsed": true
   },
   "source": [
    "##### Menilai tabel customers"
   ]
  },
  {
   "cell_type": "code",
   "execution_count": 12,
   "id": "41de5f69-988b-4404-9442-d7fddb45b92f",
   "metadata": {},
   "outputs": [
    {
     "name": "stdout",
     "output_type": "stream",
     "text": [
      "<class 'pandas.core.frame.DataFrame'>\n",
      "RangeIndex: 99441 entries, 0 to 99440\n",
      "Data columns (total 5 columns):\n",
      " #   Column                    Non-Null Count  Dtype \n",
      "---  ------                    --------------  ----- \n",
      " 0   customer_id               99441 non-null  object\n",
      " 1   customer_unique_id        99441 non-null  object\n",
      " 2   customer_zip_code_prefix  99441 non-null  int64 \n",
      " 3   customer_city             99441 non-null  object\n",
      " 4   customer_state            99441 non-null  object\n",
      "dtypes: int64(1), object(4)\n",
      "memory usage: 3.8+ MB\n"
     ]
    }
   ],
   "source": [
    "customers_df.info()"
   ]
  },
  {
   "cell_type": "code",
   "execution_count": 13,
   "id": "99c5aa5a-6a0c-42ea-a848-4ab4d7f85b6c",
   "metadata": {},
   "outputs": [
    {
     "data": {
      "text/plain": [
       "customer_id                 0\n",
       "customer_unique_id          0\n",
       "customer_zip_code_prefix    0\n",
       "customer_city               0\n",
       "customer_state              0\n",
       "dtype: int64"
      ]
     },
     "execution_count": 13,
     "metadata": {},
     "output_type": "execute_result"
    }
   ],
   "source": [
    "customers_df.isna().sum()"
   ]
  },
  {
   "cell_type": "code",
   "execution_count": 14,
   "id": "0e70a77e-c1c9-4c13-b5ff-2145b28887ba",
   "metadata": {},
   "outputs": [
    {
     "name": "stdout",
     "output_type": "stream",
     "text": [
      "Jumlah duplikasi tabel customer: 0\n"
     ]
    }
   ],
   "source": [
    "print(\"Jumlah duplikasi tabel customer:\", customers_df.duplicated().sum())"
   ]
  },
  {
   "cell_type": "code",
   "execution_count": 15,
   "id": "aab2bc3b-de98-4876-8ccc-818f013af48e",
   "metadata": {},
   "outputs": [
    {
     "data": {
      "text/html": [
       "<div>\n",
       "<style scoped>\n",
       "    .dataframe tbody tr th:only-of-type {\n",
       "        vertical-align: middle;\n",
       "    }\n",
       "\n",
       "    .dataframe tbody tr th {\n",
       "        vertical-align: top;\n",
       "    }\n",
       "\n",
       "    .dataframe thead th {\n",
       "        text-align: right;\n",
       "    }\n",
       "</style>\n",
       "<table border=\"1\" class=\"dataframe\">\n",
       "  <thead>\n",
       "    <tr style=\"text-align: right;\">\n",
       "      <th></th>\n",
       "      <th>customer_zip_code_prefix</th>\n",
       "    </tr>\n",
       "  </thead>\n",
       "  <tbody>\n",
       "    <tr>\n",
       "      <th>count</th>\n",
       "      <td>99441.000000</td>\n",
       "    </tr>\n",
       "    <tr>\n",
       "      <th>mean</th>\n",
       "      <td>35137.474583</td>\n",
       "    </tr>\n",
       "    <tr>\n",
       "      <th>std</th>\n",
       "      <td>29797.938996</td>\n",
       "    </tr>\n",
       "    <tr>\n",
       "      <th>min</th>\n",
       "      <td>1003.000000</td>\n",
       "    </tr>\n",
       "    <tr>\n",
       "      <th>25%</th>\n",
       "      <td>11347.000000</td>\n",
       "    </tr>\n",
       "    <tr>\n",
       "      <th>50%</th>\n",
       "      <td>24416.000000</td>\n",
       "    </tr>\n",
       "    <tr>\n",
       "      <th>75%</th>\n",
       "      <td>58900.000000</td>\n",
       "    </tr>\n",
       "    <tr>\n",
       "      <th>max</th>\n",
       "      <td>99990.000000</td>\n",
       "    </tr>\n",
       "  </tbody>\n",
       "</table>\n",
       "</div>"
      ],
      "text/plain": [
       "       customer_zip_code_prefix\n",
       "count              99441.000000\n",
       "mean               35137.474583\n",
       "std                29797.938996\n",
       "min                 1003.000000\n",
       "25%                11347.000000\n",
       "50%                24416.000000\n",
       "75%                58900.000000\n",
       "max                99990.000000"
      ]
     },
     "execution_count": 15,
     "metadata": {},
     "output_type": "execute_result"
    }
   ],
   "source": [
    "customers_df.describe()"
   ]
  },
  {
   "cell_type": "markdown",
   "id": "b8e346b5-40a2-4818-85fa-6d5d51135368",
   "metadata": {
    "jp-MarkdownHeadingCollapsed": true
   },
   "source": [
    "##### Menilai tabel geolocation"
   ]
  },
  {
   "cell_type": "code",
   "execution_count": 16,
   "id": "59d894d1-cad5-44fd-b851-8924fbaf57f1",
   "metadata": {},
   "outputs": [
    {
     "name": "stdout",
     "output_type": "stream",
     "text": [
      "<class 'pandas.core.frame.DataFrame'>\n",
      "RangeIndex: 1000163 entries, 0 to 1000162\n",
      "Data columns (total 5 columns):\n",
      " #   Column                       Non-Null Count    Dtype  \n",
      "---  ------                       --------------    -----  \n",
      " 0   geolocation_zip_code_prefix  1000163 non-null  int64  \n",
      " 1   geolocation_lat              1000163 non-null  float64\n",
      " 2   geolocation_lng              1000163 non-null  float64\n",
      " 3   geolocation_city             1000163 non-null  object \n",
      " 4   geolocation_state            1000163 non-null  object \n",
      "dtypes: float64(2), int64(1), object(2)\n",
      "memory usage: 38.2+ MB\n"
     ]
    }
   ],
   "source": [
    "geolocations_df.info()"
   ]
  },
  {
   "cell_type": "code",
   "execution_count": 17,
   "id": "4343f370-1ad3-4a5b-b16d-d6f5a8b012c1",
   "metadata": {},
   "outputs": [
    {
     "name": "stdout",
     "output_type": "stream",
     "text": [
      "jumlah duplikasi tabel geolocation: 261831\n"
     ]
    }
   ],
   "source": [
    "print(\"jumlah duplikasi tabel geolocation:\", geolocations_df.duplicated().sum())"
   ]
  },
  {
   "cell_type": "code",
   "execution_count": 18,
   "id": "40eb3b45-b099-43db-8848-b8392c06cc23",
   "metadata": {},
   "outputs": [
    {
     "data": {
      "text/html": [
       "<div>\n",
       "<style scoped>\n",
       "    .dataframe tbody tr th:only-of-type {\n",
       "        vertical-align: middle;\n",
       "    }\n",
       "\n",
       "    .dataframe tbody tr th {\n",
       "        vertical-align: top;\n",
       "    }\n",
       "\n",
       "    .dataframe thead th {\n",
       "        text-align: right;\n",
       "    }\n",
       "</style>\n",
       "<table border=\"1\" class=\"dataframe\">\n",
       "  <thead>\n",
       "    <tr style=\"text-align: right;\">\n",
       "      <th></th>\n",
       "      <th>geolocation_zip_code_prefix</th>\n",
       "      <th>geolocation_lat</th>\n",
       "      <th>geolocation_lng</th>\n",
       "    </tr>\n",
       "  </thead>\n",
       "  <tbody>\n",
       "    <tr>\n",
       "      <th>count</th>\n",
       "      <td>1.000163e+06</td>\n",
       "      <td>1.000163e+06</td>\n",
       "      <td>1.000163e+06</td>\n",
       "    </tr>\n",
       "    <tr>\n",
       "      <th>mean</th>\n",
       "      <td>3.657417e+04</td>\n",
       "      <td>-2.117615e+01</td>\n",
       "      <td>-4.639054e+01</td>\n",
       "    </tr>\n",
       "    <tr>\n",
       "      <th>std</th>\n",
       "      <td>3.054934e+04</td>\n",
       "      <td>5.715866e+00</td>\n",
       "      <td>4.269748e+00</td>\n",
       "    </tr>\n",
       "    <tr>\n",
       "      <th>min</th>\n",
       "      <td>1.001000e+03</td>\n",
       "      <td>-3.660537e+01</td>\n",
       "      <td>-1.014668e+02</td>\n",
       "    </tr>\n",
       "    <tr>\n",
       "      <th>25%</th>\n",
       "      <td>1.107500e+04</td>\n",
       "      <td>-2.360355e+01</td>\n",
       "      <td>-4.857317e+01</td>\n",
       "    </tr>\n",
       "    <tr>\n",
       "      <th>50%</th>\n",
       "      <td>2.653000e+04</td>\n",
       "      <td>-2.291938e+01</td>\n",
       "      <td>-4.663788e+01</td>\n",
       "    </tr>\n",
       "    <tr>\n",
       "      <th>75%</th>\n",
       "      <td>6.350400e+04</td>\n",
       "      <td>-1.997962e+01</td>\n",
       "      <td>-4.376771e+01</td>\n",
       "    </tr>\n",
       "    <tr>\n",
       "      <th>max</th>\n",
       "      <td>9.999000e+04</td>\n",
       "      <td>4.506593e+01</td>\n",
       "      <td>1.211054e+02</td>\n",
       "    </tr>\n",
       "  </tbody>\n",
       "</table>\n",
       "</div>"
      ],
      "text/plain": [
       "       geolocation_zip_code_prefix  geolocation_lat  geolocation_lng\n",
       "count                 1.000163e+06     1.000163e+06     1.000163e+06\n",
       "mean                  3.657417e+04    -2.117615e+01    -4.639054e+01\n",
       "std                   3.054934e+04     5.715866e+00     4.269748e+00\n",
       "min                   1.001000e+03    -3.660537e+01    -1.014668e+02\n",
       "25%                   1.107500e+04    -2.360355e+01    -4.857317e+01\n",
       "50%                   2.653000e+04    -2.291938e+01    -4.663788e+01\n",
       "75%                   6.350400e+04    -1.997962e+01    -4.376771e+01\n",
       "max                   9.999000e+04     4.506593e+01     1.211054e+02"
      ]
     },
     "execution_count": 18,
     "metadata": {},
     "output_type": "execute_result"
    }
   ],
   "source": [
    "geolocations_df.describe()"
   ]
  },
  {
   "cell_type": "code",
   "execution_count": 19,
   "id": "5983ab32-acd8-4280-a11d-5da6dbf37d8e",
   "metadata": {},
   "outputs": [
    {
     "data": {
      "text/html": [
       "<div>\n",
       "<style scoped>\n",
       "    .dataframe tbody tr th:only-of-type {\n",
       "        vertical-align: middle;\n",
       "    }\n",
       "\n",
       "    .dataframe tbody tr th {\n",
       "        vertical-align: top;\n",
       "    }\n",
       "\n",
       "    .dataframe thead th {\n",
       "        text-align: right;\n",
       "    }\n",
       "</style>\n",
       "<table border=\"1\" class=\"dataframe\">\n",
       "  <thead>\n",
       "    <tr style=\"text-align: right;\">\n",
       "      <th></th>\n",
       "      <th>geolocation_zip_code_prefix</th>\n",
       "      <th>geolocation_lat</th>\n",
       "      <th>geolocation_lng</th>\n",
       "      <th>geolocation_city</th>\n",
       "      <th>geolocation_state</th>\n",
       "    </tr>\n",
       "  </thead>\n",
       "  <tbody>\n",
       "    <tr>\n",
       "      <th>0</th>\n",
       "      <td>1037</td>\n",
       "      <td>-23.545621</td>\n",
       "      <td>-46.639292</td>\n",
       "      <td>sao paulo</td>\n",
       "      <td>SP</td>\n",
       "    </tr>\n",
       "    <tr>\n",
       "      <th>1</th>\n",
       "      <td>1046</td>\n",
       "      <td>-23.546081</td>\n",
       "      <td>-46.644820</td>\n",
       "      <td>sao paulo</td>\n",
       "      <td>SP</td>\n",
       "    </tr>\n",
       "    <tr>\n",
       "      <th>2</th>\n",
       "      <td>1046</td>\n",
       "      <td>-23.546129</td>\n",
       "      <td>-46.642951</td>\n",
       "      <td>sao paulo</td>\n",
       "      <td>SP</td>\n",
       "    </tr>\n",
       "    <tr>\n",
       "      <th>6</th>\n",
       "      <td>1047</td>\n",
       "      <td>-23.546273</td>\n",
       "      <td>-46.641225</td>\n",
       "      <td>sao paulo</td>\n",
       "      <td>SP</td>\n",
       "    </tr>\n",
       "    <tr>\n",
       "      <th>7</th>\n",
       "      <td>1013</td>\n",
       "      <td>-23.546923</td>\n",
       "      <td>-46.634264</td>\n",
       "      <td>sao paulo</td>\n",
       "      <td>SP</td>\n",
       "    </tr>\n",
       "    <tr>\n",
       "      <th>8</th>\n",
       "      <td>1029</td>\n",
       "      <td>-23.543769</td>\n",
       "      <td>-46.634278</td>\n",
       "      <td>sao paulo</td>\n",
       "      <td>SP</td>\n",
       "    </tr>\n",
       "    <tr>\n",
       "      <th>9</th>\n",
       "      <td>1011</td>\n",
       "      <td>-23.547640</td>\n",
       "      <td>-46.636032</td>\n",
       "      <td>sao paulo</td>\n",
       "      <td>SP</td>\n",
       "    </tr>\n",
       "    <tr>\n",
       "      <th>10</th>\n",
       "      <td>1013</td>\n",
       "      <td>-23.547325</td>\n",
       "      <td>-46.634184</td>\n",
       "      <td>sao paulo</td>\n",
       "      <td>SP</td>\n",
       "    </tr>\n",
       "    <tr>\n",
       "      <th>13</th>\n",
       "      <td>1012</td>\n",
       "      <td>-23.548946</td>\n",
       "      <td>-46.634671</td>\n",
       "      <td>sao paulo</td>\n",
       "      <td>SP</td>\n",
       "    </tr>\n",
       "    <tr>\n",
       "      <th>15</th>\n",
       "      <td>1046</td>\n",
       "      <td>-23.546081</td>\n",
       "      <td>-46.644820</td>\n",
       "      <td>sao paulo</td>\n",
       "      <td>SP</td>\n",
       "    </tr>\n",
       "    <tr>\n",
       "      <th>16</th>\n",
       "      <td>1039</td>\n",
       "      <td>-23.541883</td>\n",
       "      <td>-46.639919</td>\n",
       "      <td>sao paulo</td>\n",
       "      <td>SP</td>\n",
       "    </tr>\n",
       "    <tr>\n",
       "      <th>17</th>\n",
       "      <td>1024</td>\n",
       "      <td>-23.541390</td>\n",
       "      <td>-46.629899</td>\n",
       "      <td>são paulo</td>\n",
       "      <td>SP</td>\n",
       "    </tr>\n",
       "    <tr>\n",
       "      <th>18</th>\n",
       "      <td>1009</td>\n",
       "      <td>-23.546935</td>\n",
       "      <td>-46.636588</td>\n",
       "      <td>sao paulo</td>\n",
       "      <td>SP</td>\n",
       "    </tr>\n",
       "    <tr>\n",
       "      <th>19</th>\n",
       "      <td>1046</td>\n",
       "      <td>-23.545884</td>\n",
       "      <td>-46.643163</td>\n",
       "      <td>sao paulo</td>\n",
       "      <td>SP</td>\n",
       "    </tr>\n",
       "    <tr>\n",
       "      <th>20</th>\n",
       "      <td>1046</td>\n",
       "      <td>-23.545166</td>\n",
       "      <td>-46.643786</td>\n",
       "      <td>sao paulo</td>\n",
       "      <td>SP</td>\n",
       "    </tr>\n",
       "    <tr>\n",
       "      <th>21</th>\n",
       "      <td>1020</td>\n",
       "      <td>-23.552235</td>\n",
       "      <td>-46.628441</td>\n",
       "      <td>são paulo</td>\n",
       "      <td>SP</td>\n",
       "    </tr>\n",
       "    <tr>\n",
       "      <th>22</th>\n",
       "      <td>1011</td>\n",
       "      <td>-23.546690</td>\n",
       "      <td>-46.635447</td>\n",
       "      <td>são paulo</td>\n",
       "      <td>SP</td>\n",
       "    </tr>\n",
       "    <tr>\n",
       "      <th>24</th>\n",
       "      <td>1050</td>\n",
       "      <td>-23.549774</td>\n",
       "      <td>-46.645599</td>\n",
       "      <td>sao paulo</td>\n",
       "      <td>SP</td>\n",
       "    </tr>\n",
       "    <tr>\n",
       "      <th>25</th>\n",
       "      <td>1045</td>\n",
       "      <td>-23.541594</td>\n",
       "      <td>-46.641894</td>\n",
       "      <td>sao paulo</td>\n",
       "      <td>SP</td>\n",
       "    </tr>\n",
       "    <tr>\n",
       "      <th>27</th>\n",
       "      <td>1007</td>\n",
       "      <td>-23.550393</td>\n",
       "      <td>-46.637302</td>\n",
       "      <td>sao paulo</td>\n",
       "      <td>SP</td>\n",
       "    </tr>\n",
       "  </tbody>\n",
       "</table>\n",
       "</div>"
      ],
      "text/plain": [
       "    geolocation_zip_code_prefix  geolocation_lat  geolocation_lng  \\\n",
       "0                          1037       -23.545621       -46.639292   \n",
       "1                          1046       -23.546081       -46.644820   \n",
       "2                          1046       -23.546129       -46.642951   \n",
       "6                          1047       -23.546273       -46.641225   \n",
       "7                          1013       -23.546923       -46.634264   \n",
       "8                          1029       -23.543769       -46.634278   \n",
       "9                          1011       -23.547640       -46.636032   \n",
       "10                         1013       -23.547325       -46.634184   \n",
       "13                         1012       -23.548946       -46.634671   \n",
       "15                         1046       -23.546081       -46.644820   \n",
       "16                         1039       -23.541883       -46.639919   \n",
       "17                         1024       -23.541390       -46.629899   \n",
       "18                         1009       -23.546935       -46.636588   \n",
       "19                         1046       -23.545884       -46.643163   \n",
       "20                         1046       -23.545166       -46.643786   \n",
       "21                         1020       -23.552235       -46.628441   \n",
       "22                         1011       -23.546690       -46.635447   \n",
       "24                         1050       -23.549774       -46.645599   \n",
       "25                         1045       -23.541594       -46.641894   \n",
       "27                         1007       -23.550393       -46.637302   \n",
       "\n",
       "   geolocation_city geolocation_state  \n",
       "0         sao paulo                SP  \n",
       "1         sao paulo                SP  \n",
       "2         sao paulo                SP  \n",
       "6         sao paulo                SP  \n",
       "7         sao paulo                SP  \n",
       "8         sao paulo                SP  \n",
       "9         sao paulo                SP  \n",
       "10        sao paulo                SP  \n",
       "13        sao paulo                SP  \n",
       "15        sao paulo                SP  \n",
       "16        sao paulo                SP  \n",
       "17        são paulo                SP  \n",
       "18        sao paulo                SP  \n",
       "19        sao paulo                SP  \n",
       "20        sao paulo                SP  \n",
       "21        são paulo                SP  \n",
       "22        são paulo                SP  \n",
       "24        sao paulo                SP  \n",
       "25        sao paulo                SP  \n",
       "27        sao paulo                SP  "
      ]
     },
     "execution_count": 19,
     "metadata": {},
     "output_type": "execute_result"
    }
   ],
   "source": [
    "duplicates_geolocation = geolocations_df[geolocations_df.duplicated(keep=False)]\n",
    "duplicates_geolocation.head(20)"
   ]
  },
  {
   "cell_type": "markdown",
   "id": "fb0e51c2-a93a-4409-a2fb-9315c3a6cf00",
   "metadata": {
    "jp-MarkdownHeadingCollapsed": true
   },
   "source": [
    "##### Menilai tabel order_items"
   ]
  },
  {
   "cell_type": "code",
   "execution_count": 20,
   "id": "52461805-4723-4e30-8786-03299901b15e",
   "metadata": {},
   "outputs": [
    {
     "name": "stdout",
     "output_type": "stream",
     "text": [
      "<class 'pandas.core.frame.DataFrame'>\n",
      "RangeIndex: 112650 entries, 0 to 112649\n",
      "Data columns (total 7 columns):\n",
      " #   Column               Non-Null Count   Dtype  \n",
      "---  ------               --------------   -----  \n",
      " 0   order_id             112650 non-null  object \n",
      " 1   order_item_id        112650 non-null  int64  \n",
      " 2   product_id           112650 non-null  object \n",
      " 3   seller_id            112650 non-null  object \n",
      " 4   shipping_limit_date  112650 non-null  object \n",
      " 5   price                112650 non-null  float64\n",
      " 6   freight_value        112650 non-null  float64\n",
      "dtypes: float64(2), int64(1), object(4)\n",
      "memory usage: 6.0+ MB\n"
     ]
    }
   ],
   "source": [
    "orders_df.info()"
   ]
  },
  {
   "cell_type": "code",
   "execution_count": 21,
   "id": "7fac582a-9ef7-4790-aa38-70a880061114",
   "metadata": {},
   "outputs": [
    {
     "name": "stdout",
     "output_type": "stream",
     "text": [
      "jumlah duplikasi pada tabel order: 0\n"
     ]
    }
   ],
   "source": [
    "print(\"jumlah duplikasi pada tabel order:\", orders_df.duplicated().sum())"
   ]
  },
  {
   "cell_type": "code",
   "execution_count": 22,
   "id": "b607d585-6bf8-4d7f-a046-d2c0cbf0284d",
   "metadata": {},
   "outputs": [
    {
     "data": {
      "text/html": [
       "<div>\n",
       "<style scoped>\n",
       "    .dataframe tbody tr th:only-of-type {\n",
       "        vertical-align: middle;\n",
       "    }\n",
       "\n",
       "    .dataframe tbody tr th {\n",
       "        vertical-align: top;\n",
       "    }\n",
       "\n",
       "    .dataframe thead th {\n",
       "        text-align: right;\n",
       "    }\n",
       "</style>\n",
       "<table border=\"1\" class=\"dataframe\">\n",
       "  <thead>\n",
       "    <tr style=\"text-align: right;\">\n",
       "      <th></th>\n",
       "      <th>order_item_id</th>\n",
       "      <th>price</th>\n",
       "      <th>freight_value</th>\n",
       "    </tr>\n",
       "  </thead>\n",
       "  <tbody>\n",
       "    <tr>\n",
       "      <th>count</th>\n",
       "      <td>112650.000000</td>\n",
       "      <td>112650.000000</td>\n",
       "      <td>112650.000000</td>\n",
       "    </tr>\n",
       "    <tr>\n",
       "      <th>mean</th>\n",
       "      <td>1.197834</td>\n",
       "      <td>120.653739</td>\n",
       "      <td>19.990320</td>\n",
       "    </tr>\n",
       "    <tr>\n",
       "      <th>std</th>\n",
       "      <td>0.705124</td>\n",
       "      <td>183.633928</td>\n",
       "      <td>15.806405</td>\n",
       "    </tr>\n",
       "    <tr>\n",
       "      <th>min</th>\n",
       "      <td>1.000000</td>\n",
       "      <td>0.850000</td>\n",
       "      <td>0.000000</td>\n",
       "    </tr>\n",
       "    <tr>\n",
       "      <th>25%</th>\n",
       "      <td>1.000000</td>\n",
       "      <td>39.900000</td>\n",
       "      <td>13.080000</td>\n",
       "    </tr>\n",
       "    <tr>\n",
       "      <th>50%</th>\n",
       "      <td>1.000000</td>\n",
       "      <td>74.990000</td>\n",
       "      <td>16.260000</td>\n",
       "    </tr>\n",
       "    <tr>\n",
       "      <th>75%</th>\n",
       "      <td>1.000000</td>\n",
       "      <td>134.900000</td>\n",
       "      <td>21.150000</td>\n",
       "    </tr>\n",
       "    <tr>\n",
       "      <th>max</th>\n",
       "      <td>21.000000</td>\n",
       "      <td>6735.000000</td>\n",
       "      <td>409.680000</td>\n",
       "    </tr>\n",
       "  </tbody>\n",
       "</table>\n",
       "</div>"
      ],
      "text/plain": [
       "       order_item_id          price  freight_value\n",
       "count  112650.000000  112650.000000  112650.000000\n",
       "mean        1.197834     120.653739      19.990320\n",
       "std         0.705124     183.633928      15.806405\n",
       "min         1.000000       0.850000       0.000000\n",
       "25%         1.000000      39.900000      13.080000\n",
       "50%         1.000000      74.990000      16.260000\n",
       "75%         1.000000     134.900000      21.150000\n",
       "max        21.000000    6735.000000     409.680000"
      ]
     },
     "execution_count": 22,
     "metadata": {},
     "output_type": "execute_result"
    }
   ],
   "source": [
    "orders_df.describe()"
   ]
  },
  {
   "cell_type": "markdown",
   "id": "c9d9d15d-e98b-4bac-8d54-bafa5382efab",
   "metadata": {
    "jp-MarkdownHeadingCollapsed": true
   },
   "source": [
    "##### Menilai tabel order_payments"
   ]
  },
  {
   "cell_type": "code",
   "execution_count": 23,
   "id": "09136f34-afa2-4c89-b5b4-ac2741a044bf",
   "metadata": {},
   "outputs": [
    {
     "name": "stdout",
     "output_type": "stream",
     "text": [
      "<class 'pandas.core.frame.DataFrame'>\n",
      "RangeIndex: 103886 entries, 0 to 103885\n",
      "Data columns (total 5 columns):\n",
      " #   Column                Non-Null Count   Dtype  \n",
      "---  ------                --------------   -----  \n",
      " 0   order_id              103886 non-null  object \n",
      " 1   payment_sequential    103886 non-null  int64  \n",
      " 2   payment_type          103886 non-null  object \n",
      " 3   payment_installments  103886 non-null  int64  \n",
      " 4   payment_value         103886 non-null  float64\n",
      "dtypes: float64(1), int64(2), object(2)\n",
      "memory usage: 4.0+ MB\n"
     ]
    }
   ],
   "source": [
    "orders_payments_df.info()"
   ]
  },
  {
   "cell_type": "code",
   "execution_count": 24,
   "id": "1227b174-ee42-4d47-9396-83548403d72b",
   "metadata": {},
   "outputs": [
    {
     "name": "stdout",
     "output_type": "stream",
     "text": [
      "jumlah duplikasi pada tabel orders: 0\n"
     ]
    }
   ],
   "source": [
    "print(\"jumlah duplikasi pada tabel orders:\", orders_payments_df.duplicated().sum())"
   ]
  },
  {
   "cell_type": "code",
   "execution_count": 25,
   "id": "d0677a47-a95a-4ff3-b393-e95e490b6306",
   "metadata": {},
   "outputs": [
    {
     "data": {
      "text/html": [
       "<div>\n",
       "<style scoped>\n",
       "    .dataframe tbody tr th:only-of-type {\n",
       "        vertical-align: middle;\n",
       "    }\n",
       "\n",
       "    .dataframe tbody tr th {\n",
       "        vertical-align: top;\n",
       "    }\n",
       "\n",
       "    .dataframe thead th {\n",
       "        text-align: right;\n",
       "    }\n",
       "</style>\n",
       "<table border=\"1\" class=\"dataframe\">\n",
       "  <thead>\n",
       "    <tr style=\"text-align: right;\">\n",
       "      <th></th>\n",
       "      <th>payment_sequential</th>\n",
       "      <th>payment_installments</th>\n",
       "      <th>payment_value</th>\n",
       "    </tr>\n",
       "  </thead>\n",
       "  <tbody>\n",
       "    <tr>\n",
       "      <th>count</th>\n",
       "      <td>103886.000000</td>\n",
       "      <td>103886.000000</td>\n",
       "      <td>103886.000000</td>\n",
       "    </tr>\n",
       "    <tr>\n",
       "      <th>mean</th>\n",
       "      <td>1.092679</td>\n",
       "      <td>2.853349</td>\n",
       "      <td>154.100380</td>\n",
       "    </tr>\n",
       "    <tr>\n",
       "      <th>std</th>\n",
       "      <td>0.706584</td>\n",
       "      <td>2.687051</td>\n",
       "      <td>217.494064</td>\n",
       "    </tr>\n",
       "    <tr>\n",
       "      <th>min</th>\n",
       "      <td>1.000000</td>\n",
       "      <td>0.000000</td>\n",
       "      <td>0.000000</td>\n",
       "    </tr>\n",
       "    <tr>\n",
       "      <th>25%</th>\n",
       "      <td>1.000000</td>\n",
       "      <td>1.000000</td>\n",
       "      <td>56.790000</td>\n",
       "    </tr>\n",
       "    <tr>\n",
       "      <th>50%</th>\n",
       "      <td>1.000000</td>\n",
       "      <td>1.000000</td>\n",
       "      <td>100.000000</td>\n",
       "    </tr>\n",
       "    <tr>\n",
       "      <th>75%</th>\n",
       "      <td>1.000000</td>\n",
       "      <td>4.000000</td>\n",
       "      <td>171.837500</td>\n",
       "    </tr>\n",
       "    <tr>\n",
       "      <th>max</th>\n",
       "      <td>29.000000</td>\n",
       "      <td>24.000000</td>\n",
       "      <td>13664.080000</td>\n",
       "    </tr>\n",
       "  </tbody>\n",
       "</table>\n",
       "</div>"
      ],
      "text/plain": [
       "       payment_sequential  payment_installments  payment_value\n",
       "count       103886.000000         103886.000000  103886.000000\n",
       "mean             1.092679              2.853349     154.100380\n",
       "std              0.706584              2.687051     217.494064\n",
       "min              1.000000              0.000000       0.000000\n",
       "25%              1.000000              1.000000      56.790000\n",
       "50%              1.000000              1.000000     100.000000\n",
       "75%              1.000000              4.000000     171.837500\n",
       "max             29.000000             24.000000   13664.080000"
      ]
     },
     "execution_count": 25,
     "metadata": {},
     "output_type": "execute_result"
    }
   ],
   "source": [
    "orders_payments_df.describe()"
   ]
  },
  {
   "cell_type": "markdown",
   "id": "2894ec95-3200-44fc-8c67-e02d0b8580e4",
   "metadata": {
    "jp-MarkdownHeadingCollapsed": true
   },
   "source": [
    "##### Menilai tabel order_reviews"
   ]
  },
  {
   "cell_type": "code",
   "execution_count": 26,
   "id": "9487e492-7a90-4c9d-8113-37097fdb3fe6",
   "metadata": {},
   "outputs": [
    {
     "name": "stdout",
     "output_type": "stream",
     "text": [
      "<class 'pandas.core.frame.DataFrame'>\n",
      "RangeIndex: 99224 entries, 0 to 99223\n",
      "Data columns (total 7 columns):\n",
      " #   Column                   Non-Null Count  Dtype \n",
      "---  ------                   --------------  ----- \n",
      " 0   review_id                99224 non-null  object\n",
      " 1   order_id                 99224 non-null  object\n",
      " 2   review_score             99224 non-null  int64 \n",
      " 3   review_comment_title     11568 non-null  object\n",
      " 4   review_comment_message   40977 non-null  object\n",
      " 5   review_creation_date     99224 non-null  object\n",
      " 6   review_answer_timestamp  99224 non-null  object\n",
      "dtypes: int64(1), object(6)\n",
      "memory usage: 5.3+ MB\n"
     ]
    }
   ],
   "source": [
    "orders_reviews_df.info()"
   ]
  },
  {
   "cell_type": "code",
   "execution_count": 27,
   "id": "c1ec84e2-30d7-414e-bd92-f04647252a7d",
   "metadata": {},
   "outputs": [
    {
     "data": {
      "text/plain": [
       "review_id                      0\n",
       "order_id                       0\n",
       "review_score                   0\n",
       "review_comment_title       87656\n",
       "review_comment_message     58247\n",
       "review_creation_date           0\n",
       "review_answer_timestamp        0\n",
       "dtype: int64"
      ]
     },
     "execution_count": 27,
     "metadata": {},
     "output_type": "execute_result"
    }
   ],
   "source": [
    "orders_reviews_df.isna().sum()"
   ]
  },
  {
   "cell_type": "code",
   "execution_count": 28,
   "id": "9213c7c8-ef3f-4bb9-9ba2-14aed9348784",
   "metadata": {},
   "outputs": [
    {
     "name": "stdout",
     "output_type": "stream",
     "text": [
      "jumlah duplikasi pada tabel orders_reviews: 0\n"
     ]
    }
   ],
   "source": [
    "print(\"jumlah duplikasi pada tabel orders_reviews:\", orders_reviews_df.duplicated().sum())"
   ]
  },
  {
   "cell_type": "code",
   "execution_count": 29,
   "id": "59b1ce07-9216-4d96-9041-07ada516643c",
   "metadata": {},
   "outputs": [
    {
     "data": {
      "text/html": [
       "<div>\n",
       "<style scoped>\n",
       "    .dataframe tbody tr th:only-of-type {\n",
       "        vertical-align: middle;\n",
       "    }\n",
       "\n",
       "    .dataframe tbody tr th {\n",
       "        vertical-align: top;\n",
       "    }\n",
       "\n",
       "    .dataframe thead th {\n",
       "        text-align: right;\n",
       "    }\n",
       "</style>\n",
       "<table border=\"1\" class=\"dataframe\">\n",
       "  <thead>\n",
       "    <tr style=\"text-align: right;\">\n",
       "      <th></th>\n",
       "      <th>review_score</th>\n",
       "    </tr>\n",
       "  </thead>\n",
       "  <tbody>\n",
       "    <tr>\n",
       "      <th>count</th>\n",
       "      <td>99224.000000</td>\n",
       "    </tr>\n",
       "    <tr>\n",
       "      <th>mean</th>\n",
       "      <td>4.086421</td>\n",
       "    </tr>\n",
       "    <tr>\n",
       "      <th>std</th>\n",
       "      <td>1.347579</td>\n",
       "    </tr>\n",
       "    <tr>\n",
       "      <th>min</th>\n",
       "      <td>1.000000</td>\n",
       "    </tr>\n",
       "    <tr>\n",
       "      <th>25%</th>\n",
       "      <td>4.000000</td>\n",
       "    </tr>\n",
       "    <tr>\n",
       "      <th>50%</th>\n",
       "      <td>5.000000</td>\n",
       "    </tr>\n",
       "    <tr>\n",
       "      <th>75%</th>\n",
       "      <td>5.000000</td>\n",
       "    </tr>\n",
       "    <tr>\n",
       "      <th>max</th>\n",
       "      <td>5.000000</td>\n",
       "    </tr>\n",
       "  </tbody>\n",
       "</table>\n",
       "</div>"
      ],
      "text/plain": [
       "       review_score\n",
       "count  99224.000000\n",
       "mean       4.086421\n",
       "std        1.347579\n",
       "min        1.000000\n",
       "25%        4.000000\n",
       "50%        5.000000\n",
       "75%        5.000000\n",
       "max        5.000000"
      ]
     },
     "execution_count": 29,
     "metadata": {},
     "output_type": "execute_result"
    }
   ],
   "source": [
    "orders_reviews_df.describe()"
   ]
  },
  {
   "cell_type": "markdown",
   "id": "92177da4-3b3f-4aa0-a0e5-03b9a14d7a38",
   "metadata": {
    "jp-MarkdownHeadingCollapsed": true
   },
   "source": [
    "##### Menilai tabel orders"
   ]
  },
  {
   "cell_type": "code",
   "execution_count": 30,
   "id": "01ed5e1e-f0f4-4a81-a06e-10f2a2a58379",
   "metadata": {},
   "outputs": [
    {
     "name": "stdout",
     "output_type": "stream",
     "text": [
      "<class 'pandas.core.frame.DataFrame'>\n",
      "RangeIndex: 99441 entries, 0 to 99440\n",
      "Data columns (total 8 columns):\n",
      " #   Column                         Non-Null Count  Dtype \n",
      "---  ------                         --------------  ----- \n",
      " 0   order_id                       99441 non-null  object\n",
      " 1   customer_id                    99441 non-null  object\n",
      " 2   order_status                   99441 non-null  object\n",
      " 3   order_purchase_timestamp       99441 non-null  object\n",
      " 4   order_approved_at              99281 non-null  object\n",
      " 5   order_delivered_carrier_date   97658 non-null  object\n",
      " 6   order_delivered_customer_date  96476 non-null  object\n",
      " 7   order_estimated_delivery_date  99441 non-null  object\n",
      "dtypes: object(8)\n",
      "memory usage: 6.1+ MB\n"
     ]
    }
   ],
   "source": [
    "orders_ori_df.info()"
   ]
  },
  {
   "cell_type": "code",
   "execution_count": 31,
   "id": "dd0a5781-085c-48a5-9497-93435d88b791",
   "metadata": {},
   "outputs": [
    {
     "data": {
      "text/plain": [
       "order_id                            0\n",
       "customer_id                         0\n",
       "order_status                        0\n",
       "order_purchase_timestamp            0\n",
       "order_approved_at                 160\n",
       "order_delivered_carrier_date     1783\n",
       "order_delivered_customer_date    2965\n",
       "order_estimated_delivery_date       0\n",
       "dtype: int64"
      ]
     },
     "execution_count": 31,
     "metadata": {},
     "output_type": "execute_result"
    }
   ],
   "source": [
    "orders_ori_df.isna().sum()"
   ]
  },
  {
   "cell_type": "code",
   "execution_count": 32,
   "id": "8af69b2f-f118-408d-bbb4-135f051f66ee",
   "metadata": {},
   "outputs": [
    {
     "name": "stdout",
     "output_type": "stream",
     "text": [
      "jumlah duplikasi pada tabel orders: 0\n"
     ]
    }
   ],
   "source": [
    "print(\"jumlah duplikasi pada tabel orders:\", orders_ori_df.duplicated().sum())"
   ]
  },
  {
   "cell_type": "code",
   "execution_count": 33,
   "id": "38d093cd-6a3b-4117-893d-ac05ef4a1ba4",
   "metadata": {},
   "outputs": [
    {
     "data": {
      "text/html": [
       "<div>\n",
       "<style scoped>\n",
       "    .dataframe tbody tr th:only-of-type {\n",
       "        vertical-align: middle;\n",
       "    }\n",
       "\n",
       "    .dataframe tbody tr th {\n",
       "        vertical-align: top;\n",
       "    }\n",
       "\n",
       "    .dataframe thead th {\n",
       "        text-align: right;\n",
       "    }\n",
       "</style>\n",
       "<table border=\"1\" class=\"dataframe\">\n",
       "  <thead>\n",
       "    <tr style=\"text-align: right;\">\n",
       "      <th></th>\n",
       "      <th>order_id</th>\n",
       "      <th>customer_id</th>\n",
       "      <th>order_status</th>\n",
       "      <th>order_purchase_timestamp</th>\n",
       "      <th>order_approved_at</th>\n",
       "      <th>order_delivered_carrier_date</th>\n",
       "      <th>order_delivered_customer_date</th>\n",
       "      <th>order_estimated_delivery_date</th>\n",
       "    </tr>\n",
       "  </thead>\n",
       "  <tbody>\n",
       "    <tr>\n",
       "      <th>count</th>\n",
       "      <td>99441</td>\n",
       "      <td>99441</td>\n",
       "      <td>99441</td>\n",
       "      <td>99441</td>\n",
       "      <td>99281</td>\n",
       "      <td>97658</td>\n",
       "      <td>96476</td>\n",
       "      <td>99441</td>\n",
       "    </tr>\n",
       "    <tr>\n",
       "      <th>unique</th>\n",
       "      <td>99441</td>\n",
       "      <td>99441</td>\n",
       "      <td>8</td>\n",
       "      <td>98875</td>\n",
       "      <td>90733</td>\n",
       "      <td>81018</td>\n",
       "      <td>95664</td>\n",
       "      <td>459</td>\n",
       "    </tr>\n",
       "    <tr>\n",
       "      <th>top</th>\n",
       "      <td>66dea50a8b16d9b4dee7af250b4be1a5</td>\n",
       "      <td>edb027a75a1449115f6b43211ae02a24</td>\n",
       "      <td>delivered</td>\n",
       "      <td>2018-08-02 12:05:26</td>\n",
       "      <td>2018-02-27 04:31:10</td>\n",
       "      <td>2018-05-09 15:48:00</td>\n",
       "      <td>2018-05-08 19:36:48</td>\n",
       "      <td>2017-12-20 00:00:00</td>\n",
       "    </tr>\n",
       "    <tr>\n",
       "      <th>freq</th>\n",
       "      <td>1</td>\n",
       "      <td>1</td>\n",
       "      <td>96478</td>\n",
       "      <td>3</td>\n",
       "      <td>9</td>\n",
       "      <td>47</td>\n",
       "      <td>3</td>\n",
       "      <td>522</td>\n",
       "    </tr>\n",
       "  </tbody>\n",
       "</table>\n",
       "</div>"
      ],
      "text/plain": [
       "                                order_id                       customer_id  \\\n",
       "count                              99441                             99441   \n",
       "unique                             99441                             99441   \n",
       "top     66dea50a8b16d9b4dee7af250b4be1a5  edb027a75a1449115f6b43211ae02a24   \n",
       "freq                                   1                                 1   \n",
       "\n",
       "       order_status order_purchase_timestamp    order_approved_at  \\\n",
       "count         99441                    99441                99281   \n",
       "unique            8                    98875                90733   \n",
       "top       delivered      2018-08-02 12:05:26  2018-02-27 04:31:10   \n",
       "freq          96478                        3                    9   \n",
       "\n",
       "       order_delivered_carrier_date order_delivered_customer_date  \\\n",
       "count                         97658                         96476   \n",
       "unique                        81018                         95664   \n",
       "top             2018-05-09 15:48:00           2018-05-08 19:36:48   \n",
       "freq                             47                             3   \n",
       "\n",
       "       order_estimated_delivery_date  \n",
       "count                          99441  \n",
       "unique                           459  \n",
       "top              2017-12-20 00:00:00  \n",
       "freq                             522  "
      ]
     },
     "execution_count": 33,
     "metadata": {},
     "output_type": "execute_result"
    }
   ],
   "source": [
    "orders_ori_df.describe()"
   ]
  },
  {
   "cell_type": "code",
   "execution_count": 34,
   "id": "2dd98f46-56e9-4de4-85d3-2d2da27d73bf",
   "metadata": {},
   "outputs": [
    {
     "data": {
      "text/plain": [
       "order_status\n",
       "delivered      96478\n",
       "shipped         1107\n",
       "canceled         625\n",
       "unavailable      609\n",
       "invoiced         314\n",
       "processing       301\n",
       "created            5\n",
       "approved           2\n",
       "Name: count, dtype: int64"
      ]
     },
     "execution_count": 34,
     "metadata": {},
     "output_type": "execute_result"
    }
   ],
   "source": [
    "orders_ori_df['order_status'].value_counts()"
   ]
  },
  {
   "cell_type": "markdown",
   "id": "cfbc7980-5f66-4c30-adf8-4a8d8ea185c1",
   "metadata": {
    "jp-MarkdownHeadingCollapsed": true
   },
   "source": [
    "##### Menilai tabel product_category_name_translation"
   ]
  },
  {
   "cell_type": "code",
   "execution_count": 35,
   "id": "523ddb1d-d2d4-4c98-8ed4-d5174fa31ab9",
   "metadata": {},
   "outputs": [
    {
     "name": "stdout",
     "output_type": "stream",
     "text": [
      "<class 'pandas.core.frame.DataFrame'>\n",
      "RangeIndex: 71 entries, 0 to 70\n",
      "Data columns (total 2 columns):\n",
      " #   Column                         Non-Null Count  Dtype \n",
      "---  ------                         --------------  ----- \n",
      " 0   product_category_name          71 non-null     object\n",
      " 1   product_category_name_english  71 non-null     object\n",
      "dtypes: object(2)\n",
      "memory usage: 1.2+ KB\n"
     ]
    }
   ],
   "source": [
    "product_category_df.info()"
   ]
  },
  {
   "cell_type": "code",
   "execution_count": 36,
   "id": "1c53fef4-6de9-46f4-8c95-bb5e0784d9aa",
   "metadata": {},
   "outputs": [
    {
     "name": "stdout",
     "output_type": "stream",
     "text": [
      "jumlah duplikasi pada tabel produk kategori: 0\n"
     ]
    }
   ],
   "source": [
    "print(\"jumlah duplikasi pada tabel produk kategori:\", product_category_df.duplicated().sum())"
   ]
  },
  {
   "cell_type": "code",
   "execution_count": 37,
   "id": "b1996941-cc89-43f2-872c-9900f8b2a0f0",
   "metadata": {},
   "outputs": [
    {
     "data": {
      "text/html": [
       "<div>\n",
       "<style scoped>\n",
       "    .dataframe tbody tr th:only-of-type {\n",
       "        vertical-align: middle;\n",
       "    }\n",
       "\n",
       "    .dataframe tbody tr th {\n",
       "        vertical-align: top;\n",
       "    }\n",
       "\n",
       "    .dataframe thead th {\n",
       "        text-align: right;\n",
       "    }\n",
       "</style>\n",
       "<table border=\"1\" class=\"dataframe\">\n",
       "  <thead>\n",
       "    <tr style=\"text-align: right;\">\n",
       "      <th></th>\n",
       "      <th>product_category_name</th>\n",
       "      <th>product_category_name_english</th>\n",
       "    </tr>\n",
       "  </thead>\n",
       "  <tbody>\n",
       "    <tr>\n",
       "      <th>count</th>\n",
       "      <td>71</td>\n",
       "      <td>71</td>\n",
       "    </tr>\n",
       "    <tr>\n",
       "      <th>unique</th>\n",
       "      <td>71</td>\n",
       "      <td>71</td>\n",
       "    </tr>\n",
       "    <tr>\n",
       "      <th>top</th>\n",
       "      <td>beleza_saude</td>\n",
       "      <td>health_beauty</td>\n",
       "    </tr>\n",
       "    <tr>\n",
       "      <th>freq</th>\n",
       "      <td>1</td>\n",
       "      <td>1</td>\n",
       "    </tr>\n",
       "  </tbody>\n",
       "</table>\n",
       "</div>"
      ],
      "text/plain": [
       "       product_category_name product_category_name_english\n",
       "count                     71                            71\n",
       "unique                    71                            71\n",
       "top             beleza_saude                 health_beauty\n",
       "freq                       1                             1"
      ]
     },
     "execution_count": 37,
     "metadata": {},
     "output_type": "execute_result"
    }
   ],
   "source": [
    "product_category_df.describe()"
   ]
  },
  {
   "cell_type": "markdown",
   "id": "414437a5-d455-493d-bf5f-dd2859c3cade",
   "metadata": {
    "jp-MarkdownHeadingCollapsed": true
   },
   "source": [
    "##### Menilai tabel products"
   ]
  },
  {
   "cell_type": "code",
   "execution_count": 38,
   "id": "849728cd-b013-4459-aea6-0a15f293e8c3",
   "metadata": {},
   "outputs": [
    {
     "name": "stdout",
     "output_type": "stream",
     "text": [
      "<class 'pandas.core.frame.DataFrame'>\n",
      "RangeIndex: 32951 entries, 0 to 32950\n",
      "Data columns (total 9 columns):\n",
      " #   Column                      Non-Null Count  Dtype  \n",
      "---  ------                      --------------  -----  \n",
      " 0   product_id                  32951 non-null  object \n",
      " 1   product_category_name       32341 non-null  object \n",
      " 2   product_name_lenght         32341 non-null  float64\n",
      " 3   product_description_lenght  32341 non-null  float64\n",
      " 4   product_photos_qty          32341 non-null  float64\n",
      " 5   product_weight_g            32949 non-null  float64\n",
      " 6   product_length_cm           32949 non-null  float64\n",
      " 7   product_height_cm           32949 non-null  float64\n",
      " 8   product_width_cm            32949 non-null  float64\n",
      "dtypes: float64(7), object(2)\n",
      "memory usage: 2.3+ MB\n"
     ]
    }
   ],
   "source": [
    "products_df.info()"
   ]
  },
  {
   "cell_type": "code",
   "execution_count": 39,
   "id": "9a9b39ac-99be-4486-8326-d0233bc6b093",
   "metadata": {},
   "outputs": [
    {
     "name": "stdout",
     "output_type": "stream",
     "text": [
      "jumlah duplikasi pada tabel products: 0\n"
     ]
    }
   ],
   "source": [
    "print(\"jumlah duplikasi pada tabel products:\", products_df.duplicated().sum())"
   ]
  },
  {
   "cell_type": "code",
   "execution_count": 40,
   "id": "9bd1e18a-cb2f-41ff-b651-a9484b90065a",
   "metadata": {},
   "outputs": [
    {
     "data": {
      "text/plain": [
       "product_id                      0\n",
       "product_category_name         610\n",
       "product_name_lenght           610\n",
       "product_description_lenght    610\n",
       "product_photos_qty            610\n",
       "product_weight_g                2\n",
       "product_length_cm               2\n",
       "product_height_cm               2\n",
       "product_width_cm                2\n",
       "dtype: int64"
      ]
     },
     "execution_count": 40,
     "metadata": {},
     "output_type": "execute_result"
    }
   ],
   "source": [
    "products_df.isna().sum()"
   ]
  },
  {
   "cell_type": "code",
   "execution_count": 41,
   "id": "354d7e91-e1e5-464f-a2ea-a4b1bf04bf06",
   "metadata": {},
   "outputs": [
    {
     "data": {
      "text/html": [
       "<div>\n",
       "<style scoped>\n",
       "    .dataframe tbody tr th:only-of-type {\n",
       "        vertical-align: middle;\n",
       "    }\n",
       "\n",
       "    .dataframe tbody tr th {\n",
       "        vertical-align: top;\n",
       "    }\n",
       "\n",
       "    .dataframe thead th {\n",
       "        text-align: right;\n",
       "    }\n",
       "</style>\n",
       "<table border=\"1\" class=\"dataframe\">\n",
       "  <thead>\n",
       "    <tr style=\"text-align: right;\">\n",
       "      <th></th>\n",
       "      <th>product_name_lenght</th>\n",
       "      <th>product_description_lenght</th>\n",
       "      <th>product_photos_qty</th>\n",
       "      <th>product_weight_g</th>\n",
       "      <th>product_length_cm</th>\n",
       "      <th>product_height_cm</th>\n",
       "      <th>product_width_cm</th>\n",
       "    </tr>\n",
       "  </thead>\n",
       "  <tbody>\n",
       "    <tr>\n",
       "      <th>count</th>\n",
       "      <td>32341.000000</td>\n",
       "      <td>32341.000000</td>\n",
       "      <td>32341.000000</td>\n",
       "      <td>32949.000000</td>\n",
       "      <td>32949.000000</td>\n",
       "      <td>32949.000000</td>\n",
       "      <td>32949.000000</td>\n",
       "    </tr>\n",
       "    <tr>\n",
       "      <th>mean</th>\n",
       "      <td>48.476949</td>\n",
       "      <td>771.495285</td>\n",
       "      <td>2.188986</td>\n",
       "      <td>2276.472488</td>\n",
       "      <td>30.815078</td>\n",
       "      <td>16.937661</td>\n",
       "      <td>23.196728</td>\n",
       "    </tr>\n",
       "    <tr>\n",
       "      <th>std</th>\n",
       "      <td>10.245741</td>\n",
       "      <td>635.115225</td>\n",
       "      <td>1.736766</td>\n",
       "      <td>4282.038731</td>\n",
       "      <td>16.914458</td>\n",
       "      <td>13.637554</td>\n",
       "      <td>12.079047</td>\n",
       "    </tr>\n",
       "    <tr>\n",
       "      <th>min</th>\n",
       "      <td>5.000000</td>\n",
       "      <td>4.000000</td>\n",
       "      <td>1.000000</td>\n",
       "      <td>0.000000</td>\n",
       "      <td>7.000000</td>\n",
       "      <td>2.000000</td>\n",
       "      <td>6.000000</td>\n",
       "    </tr>\n",
       "    <tr>\n",
       "      <th>25%</th>\n",
       "      <td>42.000000</td>\n",
       "      <td>339.000000</td>\n",
       "      <td>1.000000</td>\n",
       "      <td>300.000000</td>\n",
       "      <td>18.000000</td>\n",
       "      <td>8.000000</td>\n",
       "      <td>15.000000</td>\n",
       "    </tr>\n",
       "    <tr>\n",
       "      <th>50%</th>\n",
       "      <td>51.000000</td>\n",
       "      <td>595.000000</td>\n",
       "      <td>1.000000</td>\n",
       "      <td>700.000000</td>\n",
       "      <td>25.000000</td>\n",
       "      <td>13.000000</td>\n",
       "      <td>20.000000</td>\n",
       "    </tr>\n",
       "    <tr>\n",
       "      <th>75%</th>\n",
       "      <td>57.000000</td>\n",
       "      <td>972.000000</td>\n",
       "      <td>3.000000</td>\n",
       "      <td>1900.000000</td>\n",
       "      <td>38.000000</td>\n",
       "      <td>21.000000</td>\n",
       "      <td>30.000000</td>\n",
       "    </tr>\n",
       "    <tr>\n",
       "      <th>max</th>\n",
       "      <td>76.000000</td>\n",
       "      <td>3992.000000</td>\n",
       "      <td>20.000000</td>\n",
       "      <td>40425.000000</td>\n",
       "      <td>105.000000</td>\n",
       "      <td>105.000000</td>\n",
       "      <td>118.000000</td>\n",
       "    </tr>\n",
       "  </tbody>\n",
       "</table>\n",
       "</div>"
      ],
      "text/plain": [
       "       product_name_lenght  product_description_lenght  product_photos_qty  \\\n",
       "count         32341.000000                32341.000000        32341.000000   \n",
       "mean             48.476949                  771.495285            2.188986   \n",
       "std              10.245741                  635.115225            1.736766   \n",
       "min               5.000000                    4.000000            1.000000   \n",
       "25%              42.000000                  339.000000            1.000000   \n",
       "50%              51.000000                  595.000000            1.000000   \n",
       "75%              57.000000                  972.000000            3.000000   \n",
       "max              76.000000                 3992.000000           20.000000   \n",
       "\n",
       "       product_weight_g  product_length_cm  product_height_cm  \\\n",
       "count      32949.000000       32949.000000       32949.000000   \n",
       "mean        2276.472488          30.815078          16.937661   \n",
       "std         4282.038731          16.914458          13.637554   \n",
       "min            0.000000           7.000000           2.000000   \n",
       "25%          300.000000          18.000000           8.000000   \n",
       "50%          700.000000          25.000000          13.000000   \n",
       "75%         1900.000000          38.000000          21.000000   \n",
       "max        40425.000000         105.000000         105.000000   \n",
       "\n",
       "       product_width_cm  \n",
       "count      32949.000000  \n",
       "mean          23.196728  \n",
       "std           12.079047  \n",
       "min            6.000000  \n",
       "25%           15.000000  \n",
       "50%           20.000000  \n",
       "75%           30.000000  \n",
       "max          118.000000  "
      ]
     },
     "execution_count": 41,
     "metadata": {},
     "output_type": "execute_result"
    }
   ],
   "source": [
    "products_df.describe()"
   ]
  },
  {
   "cell_type": "markdown",
   "id": "e9df0341-b32a-4e4a-9ce5-59023433ab93",
   "metadata": {
    "jp-MarkdownHeadingCollapsed": true
   },
   "source": [
    "##### Menilai tabel sellers"
   ]
  },
  {
   "cell_type": "code",
   "execution_count": 42,
   "id": "1ce351e1-91de-4f35-8bd4-d8ec0f3ef385",
   "metadata": {},
   "outputs": [
    {
     "name": "stdout",
     "output_type": "stream",
     "text": [
      "<class 'pandas.core.frame.DataFrame'>\n",
      "RangeIndex: 3095 entries, 0 to 3094\n",
      "Data columns (total 4 columns):\n",
      " #   Column                  Non-Null Count  Dtype \n",
      "---  ------                  --------------  ----- \n",
      " 0   seller_id               3095 non-null   object\n",
      " 1   seller_zip_code_prefix  3095 non-null   int64 \n",
      " 2   seller_city             3095 non-null   object\n",
      " 3   seller_state            3095 non-null   object\n",
      "dtypes: int64(1), object(3)\n",
      "memory usage: 96.8+ KB\n"
     ]
    }
   ],
   "source": [
    "sellers_df.info()"
   ]
  },
  {
   "cell_type": "code",
   "execution_count": 43,
   "id": "97b95671-c76f-4b0c-a3a1-8f5883f57a88",
   "metadata": {},
   "outputs": [
    {
     "name": "stdout",
     "output_type": "stream",
     "text": [
      "jumlah duplikasi pada tabel seller: 0\n"
     ]
    }
   ],
   "source": [
    "print(\"jumlah duplikasi pada tabel seller:\", sellers_df.duplicated().sum())"
   ]
  },
  {
   "cell_type": "code",
   "execution_count": 44,
   "id": "fc94afbd-f018-4d69-b1c5-bb64314ada2e",
   "metadata": {},
   "outputs": [
    {
     "data": {
      "text/html": [
       "<div>\n",
       "<style scoped>\n",
       "    .dataframe tbody tr th:only-of-type {\n",
       "        vertical-align: middle;\n",
       "    }\n",
       "\n",
       "    .dataframe tbody tr th {\n",
       "        vertical-align: top;\n",
       "    }\n",
       "\n",
       "    .dataframe thead th {\n",
       "        text-align: right;\n",
       "    }\n",
       "</style>\n",
       "<table border=\"1\" class=\"dataframe\">\n",
       "  <thead>\n",
       "    <tr style=\"text-align: right;\">\n",
       "      <th></th>\n",
       "      <th>seller_zip_code_prefix</th>\n",
       "    </tr>\n",
       "  </thead>\n",
       "  <tbody>\n",
       "    <tr>\n",
       "      <th>count</th>\n",
       "      <td>3095.000000</td>\n",
       "    </tr>\n",
       "    <tr>\n",
       "      <th>mean</th>\n",
       "      <td>32291.059451</td>\n",
       "    </tr>\n",
       "    <tr>\n",
       "      <th>std</th>\n",
       "      <td>32713.453830</td>\n",
       "    </tr>\n",
       "    <tr>\n",
       "      <th>min</th>\n",
       "      <td>1001.000000</td>\n",
       "    </tr>\n",
       "    <tr>\n",
       "      <th>25%</th>\n",
       "      <td>7093.500000</td>\n",
       "    </tr>\n",
       "    <tr>\n",
       "      <th>50%</th>\n",
       "      <td>14940.000000</td>\n",
       "    </tr>\n",
       "    <tr>\n",
       "      <th>75%</th>\n",
       "      <td>64552.500000</td>\n",
       "    </tr>\n",
       "    <tr>\n",
       "      <th>max</th>\n",
       "      <td>99730.000000</td>\n",
       "    </tr>\n",
       "  </tbody>\n",
       "</table>\n",
       "</div>"
      ],
      "text/plain": [
       "       seller_zip_code_prefix\n",
       "count             3095.000000\n",
       "mean             32291.059451\n",
       "std              32713.453830\n",
       "min               1001.000000\n",
       "25%               7093.500000\n",
       "50%              14940.000000\n",
       "75%              64552.500000\n",
       "max              99730.000000"
      ]
     },
     "execution_count": 44,
     "metadata": {},
     "output_type": "execute_result"
    }
   ],
   "source": [
    "sellers_df.describe()"
   ]
  },
  {
   "cell_type": "markdown",
   "id": "c1428e06-2fcc-413c-b792-5b4d618e4dc5",
   "metadata": {
    "jp-MarkdownHeadingCollapsed": true
   },
   "source": [
    "##### Insight\n",
    "Melakukan penilaian dataset, seperti mengecek struktur tabel, duplikasi, missing value dan rangkuman informasi mengenai tabel tersebut"
   ]
  },
  {
   "cell_type": "markdown",
   "id": "7af9b696-9691-4318-8d58-d264a8d8a348",
   "metadata": {
    "jp-MarkdownHeadingCollapsed": true
   },
   "source": [
    "### Cleaning Data"
   ]
  },
  {
   "cell_type": "markdown",
   "id": "48d506e6-81e1-496a-b49d-41774cbe8700",
   "metadata": {
    "jp-MarkdownHeadingCollapsed": true
   },
   "source": [
    "##### Membersihkan tabel geolocation"
   ]
  },
  {
   "cell_type": "code",
   "execution_count": 45,
   "id": "58312cff-ac61-420d-86e2-d0cd14e6dfc1",
   "metadata": {},
   "outputs": [],
   "source": [
    "geolocations_df = geolocations_df.drop_duplicates()"
   ]
  },
  {
   "cell_type": "code",
   "execution_count": 46,
   "id": "148af1a4-bcae-45aa-852d-f2da65b4c13c",
   "metadata": {},
   "outputs": [
    {
     "name": "stdout",
     "output_type": "stream",
     "text": [
      "0\n"
     ]
    }
   ],
   "source": [
    "print(geolocations_df.duplicated().sum())"
   ]
  },
  {
   "cell_type": "markdown",
   "id": "2ffa4609-93d9-4b37-82fe-dad3ca0e0b0d",
   "metadata": {
    "jp-MarkdownHeadingCollapsed": true
   },
   "source": [
    "##### Membersihkan tabel order item"
   ]
  },
  {
   "cell_type": "code",
   "execution_count": 47,
   "id": "b3ab578a-8bf8-484f-9cd8-07ee376ca561",
   "metadata": {},
   "outputs": [],
   "source": [
    "datetime_columns = [\"shipping_limit_date\"]\n",
    " \n",
    "for column in datetime_columns:\n",
    "  orders_df[column] = pd.to_datetime(orders_df[column])"
   ]
  },
  {
   "cell_type": "code",
   "execution_count": 48,
   "id": "7e819b06-71e3-4fb7-8d3e-0499053dca2d",
   "metadata": {},
   "outputs": [
    {
     "name": "stdout",
     "output_type": "stream",
     "text": [
      "<class 'pandas.core.frame.DataFrame'>\n",
      "RangeIndex: 112650 entries, 0 to 112649\n",
      "Data columns (total 7 columns):\n",
      " #   Column               Non-Null Count   Dtype         \n",
      "---  ------               --------------   -----         \n",
      " 0   order_id             112650 non-null  object        \n",
      " 1   order_item_id        112650 non-null  int64         \n",
      " 2   product_id           112650 non-null  object        \n",
      " 3   seller_id            112650 non-null  object        \n",
      " 4   shipping_limit_date  112650 non-null  datetime64[ns]\n",
      " 5   price                112650 non-null  float64       \n",
      " 6   freight_value        112650 non-null  float64       \n",
      "dtypes: datetime64[ns](1), float64(2), int64(1), object(3)\n",
      "memory usage: 6.0+ MB\n"
     ]
    }
   ],
   "source": [
    "orders_df.info()"
   ]
  },
  {
   "cell_type": "markdown",
   "id": "edfc364c-f000-46f3-9ed5-6e3fc08b2708",
   "metadata": {
    "jp-MarkdownHeadingCollapsed": true
   },
   "source": [
    "##### Membersihkan tabel order reviews"
   ]
  },
  {
   "cell_type": "code",
   "execution_count": 49,
   "id": "32a23633-3cc1-45ac-88c7-4447df48cac5",
   "metadata": {},
   "outputs": [],
   "source": [
    "# Mengubah type data\n",
    "datetime_columns = [\"review_creation_date\", \"review_answer_timestamp\"]\n",
    " \n",
    "for column in datetime_columns:\n",
    "  orders_reviews_df[column] = pd.to_datetime(orders_reviews_df[column])"
   ]
  },
  {
   "cell_type": "code",
   "execution_count": 50,
   "id": "72950e09-c6ed-4ff8-a63f-70710d5cc371",
   "metadata": {},
   "outputs": [
    {
     "name": "stderr",
     "output_type": "stream",
     "text": [
      "C:\\Users\\User\\AppData\\Local\\Temp\\ipykernel_19332\\3725621483.py:2: FutureWarning: A value is trying to be set on a copy of a DataFrame or Series through chained assignment using an inplace method.\n",
      "The behavior will change in pandas 3.0. This inplace method will never work because the intermediate object on which we are setting values always behaves as a copy.\n",
      "\n",
      "For example, when doing 'df[col].method(value, inplace=True)', try using 'df.method({col: value}, inplace=True)' or df[col] = df[col].method(value) instead, to perform the operation inplace on the original object.\n",
      "\n",
      "\n",
      "  orders_reviews_df['review_comment_title'].fillna(\"No Comment\", inplace=True)\n"
     ]
    }
   ],
   "source": [
    "# mengisi missing value\n",
    "orders_reviews_df['review_comment_title'].fillna(\"No Comment\", inplace=True)"
   ]
  },
  {
   "cell_type": "code",
   "execution_count": 51,
   "id": "9ea1af45-a1d1-40cc-bde7-9beccefa3960",
   "metadata": {},
   "outputs": [
    {
     "name": "stderr",
     "output_type": "stream",
     "text": [
      "C:\\Users\\User\\AppData\\Local\\Temp\\ipykernel_19332\\3375048182.py:2: FutureWarning: A value is trying to be set on a copy of a DataFrame or Series through chained assignment using an inplace method.\n",
      "The behavior will change in pandas 3.0. This inplace method will never work because the intermediate object on which we are setting values always behaves as a copy.\n",
      "\n",
      "For example, when doing 'df[col].method(value, inplace=True)', try using 'df.method({col: value}, inplace=True)' or df[col] = df[col].method(value) instead, to perform the operation inplace on the original object.\n",
      "\n",
      "\n",
      "  orders_reviews_df['review_comment_message'].fillna(\"No Comment\", inplace=True)\n"
     ]
    }
   ],
   "source": [
    "# mengisi missing value\n",
    "orders_reviews_df['review_comment_message'].fillna(\"No Comment\", inplace=True)"
   ]
  },
  {
   "cell_type": "code",
   "execution_count": 52,
   "id": "daf351a3-b19e-4ee4-afad-d376ee91a7f1",
   "metadata": {},
   "outputs": [
    {
     "data": {
      "text/plain": [
       "review_id                  0\n",
       "order_id                   0\n",
       "review_score               0\n",
       "review_comment_title       0\n",
       "review_comment_message     0\n",
       "review_creation_date       0\n",
       "review_answer_timestamp    0\n",
       "dtype: int64"
      ]
     },
     "execution_count": 52,
     "metadata": {},
     "output_type": "execute_result"
    }
   ],
   "source": [
    "orders_reviews_df.isna().sum()"
   ]
  },
  {
   "cell_type": "markdown",
   "id": "7fb0f5e3-1bc1-4c6d-b83a-a19ec1db5611",
   "metadata": {
    "jp-MarkdownHeadingCollapsed": true
   },
   "source": [
    "##### Membersihkan tabel orders"
   ]
  },
  {
   "cell_type": "code",
   "execution_count": 53,
   "id": "d8a6707a-be23-4c59-94d6-d876e04051a9",
   "metadata": {},
   "outputs": [],
   "source": [
    "# mengubah type data\n",
    "datetime_columns = [\"order_approved_at\", \"order_delivered_carrier_date\", \"order_delivered_customer_date\", \"order_estimated_delivery_date\"]\n",
    " \n",
    "for column in datetime_columns:\n",
    "  orders_ori_df[column] = pd.to_datetime(orders_ori_df[column])"
   ]
  },
  {
   "cell_type": "markdown",
   "id": "77acca9a-7d24-4324-ae56-18a0efc41b92",
   "metadata": {
    "jp-MarkdownHeadingCollapsed": true
   },
   "source": [
    "##### Membersihkan tabel products"
   ]
  },
  {
   "cell_type": "code",
   "execution_count": 54,
   "id": "6c1122ad-9373-45e9-bec9-2047ce90c8e4",
   "metadata": {},
   "outputs": [],
   "source": [
    "# drop products yang beratnya 0 \n",
    "products_df = products_df[products_df['product_weight_g'] != 0]"
   ]
  },
  {
   "cell_type": "code",
   "execution_count": 55,
   "id": "4030e34e-3d51-4ce6-9f83-8724ba6e383c",
   "metadata": {},
   "outputs": [
    {
     "data": {
      "text/html": [
       "<div>\n",
       "<style scoped>\n",
       "    .dataframe tbody tr th:only-of-type {\n",
       "        vertical-align: middle;\n",
       "    }\n",
       "\n",
       "    .dataframe tbody tr th {\n",
       "        vertical-align: top;\n",
       "    }\n",
       "\n",
       "    .dataframe thead th {\n",
       "        text-align: right;\n",
       "    }\n",
       "</style>\n",
       "<table border=\"1\" class=\"dataframe\">\n",
       "  <thead>\n",
       "    <tr style=\"text-align: right;\">\n",
       "      <th></th>\n",
       "      <th>product_id</th>\n",
       "      <th>product_category_name</th>\n",
       "      <th>product_name_lenght</th>\n",
       "      <th>product_description_lenght</th>\n",
       "      <th>product_photos_qty</th>\n",
       "      <th>product_weight_g</th>\n",
       "      <th>product_length_cm</th>\n",
       "      <th>product_height_cm</th>\n",
       "      <th>product_width_cm</th>\n",
       "    </tr>\n",
       "  </thead>\n",
       "  <tbody>\n",
       "  </tbody>\n",
       "</table>\n",
       "</div>"
      ],
      "text/plain": [
       "Empty DataFrame\n",
       "Columns: [product_id, product_category_name, product_name_lenght, product_description_lenght, product_photos_qty, product_weight_g, product_length_cm, product_height_cm, product_width_cm]\n",
       "Index: []"
      ]
     },
     "execution_count": 55,
     "metadata": {},
     "output_type": "execute_result"
    }
   ],
   "source": [
    "products_df[products_df['product_weight_g'] == 0]"
   ]
  },
  {
   "cell_type": "code",
   "execution_count": 56,
   "id": "ae4d0c15-2a0f-49ab-8137-64066f161483",
   "metadata": {},
   "outputs": [
    {
     "data": {
      "text/plain": [
       "product_id                      0\n",
       "product_category_name         610\n",
       "product_name_lenght           610\n",
       "product_description_lenght    610\n",
       "product_photos_qty            610\n",
       "product_weight_g                2\n",
       "product_length_cm               2\n",
       "product_height_cm               2\n",
       "product_width_cm                2\n",
       "dtype: int64"
      ]
     },
     "execution_count": 56,
     "metadata": {},
     "output_type": "execute_result"
    }
   ],
   "source": [
    "products_df.isna().sum()"
   ]
  },
  {
   "cell_type": "code",
   "execution_count": 57,
   "id": "6ab430a7-2b8e-4b29-9265-d0785c79e7a5",
   "metadata": {},
   "outputs": [
    {
     "name": "stderr",
     "output_type": "stream",
     "text": [
      "C:\\Users\\User\\AppData\\Local\\Temp\\ipykernel_19332\\3855537032.py:2: FutureWarning: A value is trying to be set on a copy of a DataFrame or Series through chained assignment using an inplace method.\n",
      "The behavior will change in pandas 3.0. This inplace method will never work because the intermediate object on which we are setting values always behaves as a copy.\n",
      "\n",
      "For example, when doing 'df[col].method(value, inplace=True)', try using 'df.method({col: value}, inplace=True)' or df[col] = df[col].method(value) instead, to perform the operation inplace on the original object.\n",
      "\n",
      "\n",
      "  products_df['product_description_lenght'].fillna(products_df['product_description_lenght'].median(), inplace=True)\n"
     ]
    }
   ],
   "source": [
    "# menggantikan nilai NaN pada kolom product_description_lenght di products_df dengan nilai median dari kolom tersebut.\n",
    "products_df['product_description_lenght'].fillna(products_df['product_description_lenght'].median(), inplace=True)"
   ]
  },
  {
   "cell_type": "code",
   "execution_count": 58,
   "id": "afd64f77-2425-4227-8b09-996be5595c0c",
   "metadata": {},
   "outputs": [
    {
     "name": "stderr",
     "output_type": "stream",
     "text": [
      "C:\\Users\\User\\AppData\\Local\\Temp\\ipykernel_19332\\3999095371.py:2: FutureWarning: A value is trying to be set on a copy of a DataFrame or Series through chained assignment using an inplace method.\n",
      "The behavior will change in pandas 3.0. This inplace method will never work because the intermediate object on which we are setting values always behaves as a copy.\n",
      "\n",
      "For example, when doing 'df[col].method(value, inplace=True)', try using 'df.method({col: value}, inplace=True)' or df[col] = df[col].method(value) instead, to perform the operation inplace on the original object.\n",
      "\n",
      "\n",
      "  products_df['product_name_lenght'].fillna(products_df['product_name_lenght'].median(), inplace=True)\n"
     ]
    }
   ],
   "source": [
    "# menggantikan nilai NaN pada kolom product_name_lenght di products_df dengan nilai median dari kolom tersebut.\n",
    "products_df['product_name_lenght'].fillna(products_df['product_name_lenght'].median(), inplace=True)"
   ]
  },
  {
   "cell_type": "code",
   "execution_count": 59,
   "id": "eacb7f82-ea27-4e0a-97b5-d9978761ef75",
   "metadata": {},
   "outputs": [
    {
     "name": "stderr",
     "output_type": "stream",
     "text": [
      "C:\\Users\\User\\AppData\\Local\\Temp\\ipykernel_19332\\1848435206.py:2: FutureWarning: A value is trying to be set on a copy of a DataFrame or Series through chained assignment using an inplace method.\n",
      "The behavior will change in pandas 3.0. This inplace method will never work because the intermediate object on which we are setting values always behaves as a copy.\n",
      "\n",
      "For example, when doing 'df[col].method(value, inplace=True)', try using 'df.method({col: value}, inplace=True)' or df[col] = df[col].method(value) instead, to perform the operation inplace on the original object.\n",
      "\n",
      "\n",
      "  products_df['product_photos_qty'].fillna(products_df['product_photos_qty'].median(), inplace=True)\n"
     ]
    }
   ],
   "source": [
    "# menggantikan nilai NaN pada kolom product_photos_qty di products_df dengan nilai median dari kolom tersebut.\n",
    "products_df['product_photos_qty'].fillna(products_df['product_photos_qty'].median(), inplace=True)"
   ]
  },
  {
   "cell_type": "code",
   "execution_count": 60,
   "id": "1153956b-1f03-4513-a290-18b2c8458a11",
   "metadata": {},
   "outputs": [
    {
     "data": {
      "text/plain": [
       "product_id                      0\n",
       "product_category_name         610\n",
       "product_name_lenght             0\n",
       "product_description_lenght      0\n",
       "product_photos_qty              0\n",
       "product_weight_g                2\n",
       "product_length_cm               2\n",
       "product_height_cm               2\n",
       "product_width_cm                2\n",
       "dtype: int64"
      ]
     },
     "execution_count": 60,
     "metadata": {},
     "output_type": "execute_result"
    }
   ],
   "source": [
    "products_df.isna().sum()"
   ]
  },
  {
   "cell_type": "markdown",
   "id": "cac9607d-76c2-400e-ad3a-51e975d6099e",
   "metadata": {
    "jp-MarkdownHeadingCollapsed": true
   },
   "source": [
    "##### insight\n",
    "Melakukan perubahan type data, menghapus duplikasi, mengisi missing value dan beberapa hal lainnya"
   ]
  },
  {
   "cell_type": "markdown",
   "id": "eeca9c3c-9549-4717-9944-8ed4cf2f0f8c",
   "metadata": {
    "jp-MarkdownHeadingCollapsed": true
   },
   "source": [
    "## Exploratory Data Analysis (EDA)"
   ]
  },
  {
   "cell_type": "code",
   "execution_count": 64,
   "id": "16d0ec3d-3684-4bd0-960c-f47da3289f4c",
   "metadata": {},
   "outputs": [
    {
     "name": "stdout",
     "output_type": "stream",
     "text": [
      "   order_purchase_timestamp  total_orders  total_revenue\n",
      "14                  2017-11          7863     1194882.80\n",
      "15                  2017-12          5895      878401.48\n",
      "16                  2018-01          7563     1115004.18\n",
      "17                  2018-02          6952      992463.34\n",
      "18                  2018-03          7512     1159652.12\n",
      "19                  2018-04          7209     1160785.48\n",
      "20                  2018-05          7135     1153982.15\n",
      "21                  2018-06          6419     1023880.50\n",
      "22                  2018-07          6507     1066540.75\n",
      "23                  2018-08          6698     1022425.32\n"
     ]
    },
    {
     "name": "stderr",
     "output_type": "stream",
     "text": [
      "C:\\Users\\User\\AppData\\Local\\Temp\\ipykernel_19332\\3895098201.py:12: FutureWarning: 'M' is deprecated and will be removed in a future version, please use 'ME' instead.\n",
      "  .resample(\"M\")  # Pastikan semua bulan ada\n"
     ]
    }
   ],
   "source": [
    "# Mengubah type data ke data time\n",
    "orders_ori_df[\"order_purchase_timestamp\"] = pd.to_datetime(orders_ori_df[\"order_purchase_timestamp\"])\n",
    "\n",
    "# Menggabungkan tabel orders dan payments\n",
    "order_data = orders_ori_df.merge(orders_payments_df, on=\"order_id\", how=\"inner\")\n",
    "\n",
    "# Mengubah ke datetime untuk resampling (agar bulan tanpa transaksi tetap muncul)\n",
    "order_data.set_index(\"order_purchase_timestamp\", inplace=True)\n",
    "\n",
    "# Agregasi jumlah order dan revenue per bulan\n",
    "monthly_sales = (order_data\n",
    "                 .resample(\"M\")  # Pastikan semua bulan ada\n",
    "                 .agg(total_orders=(\"order_id\", \"count\"),\n",
    "                      total_revenue=(\"payment_value\", \"sum\"))\n",
    "                 .reset_index())\n",
    "\n",
    "# Format tanggal \n",
    "monthly_sales[\"order_purchase_timestamp\"] = monthly_sales[\"order_purchase_timestamp\"].dt.strftime('%Y-%m')\n",
    "\n",
    "# Ambil 10 data terbaru\n",
    "monthly_sales = monthly_sales.tail(10)\n",
    "\n",
    "# Menampilkan hasil\n",
    "print(monthly_sales)"
   ]
  },
  {
   "cell_type": "code",
   "execution_count": 65,
   "id": "b2632fa7-c9ee-484a-9fb5-5175bd0d535a",
   "metadata": {},
   "outputs": [
    {
     "name": "stdout",
     "output_type": "stream",
     "text": [
      "🔹 Top 10 Kota dengan customers Terbanyak:\n",
      "     customer_state          customer_city  customer_count\n",
      "4176             SP              sao paulo           15540\n",
      "2788             RJ         rio de janeiro            6882\n",
      "1062             MG         belo horizonte            2773\n",
      "601              DF               brasilia            2131\n",
      "2406             PR               curitiba            1521\n",
      "3729             SP               campinas            1444\n",
      "3208             RS           porto alegre            1379\n",
      "372              BA               salvador            1245\n",
      "3836             SP              guarulhos            1189\n",
      "4160             SP  sao bernardo do campo             938\n",
      "\n",
      "🔹 Bottom 5 Kota dengan customers Paling Sedikit:\n",
      "     customer_state    customer_city  customer_count\n",
      "3029             RS  capivari do sul               1\n",
      "3028             RS          capitao               1\n",
      "4305             TO     silvanopolis               1\n",
      "4287             TO          lajeado               1\n",
      "4281             TO           fatima               1\n",
      "\n",
      "🔹 Top 10 Provinsi dengan customers Terbanyak:\n",
      "   customer_state  customer_count\n",
      "25             SP           41746\n",
      "18             RJ           12852\n",
      "10             MG           11635\n",
      "22             RS            5466\n",
      "17             PR            5045\n",
      "23             SC            3637\n",
      "4              BA            3380\n",
      "6              DF            2140\n",
      "7              ES            2033\n",
      "8              GO            2020\n",
      "\n",
      "🔹 Bottom 5 Provinsi dengan customers Paling Sedikit:\n",
      "   customer_state  customer_count\n",
      "20             RO             253\n",
      "2              AM             148\n",
      "0              AC              81\n",
      "3              AP              68\n",
      "21             RR              46\n"
     ]
    }
   ],
   "source": [
    "# Melakukan group customers berdasarkan kota dan provinsi\n",
    "customer_summary = (customers_df\n",
    "                    .groupby([\"customer_state\", \"customer_city\"])\n",
    "                    .agg(customer_count=(\"customer_id\", \"count\"))\n",
    "                    .reset_index()\n",
    "                    .sort_values(by=\"customer_count\", ascending=False))\n",
    "\n",
    "# Mengambil 10 kota dengan customers terbanyak\n",
    "top_10_cities = customer_summary.head(10)\n",
    "\n",
    "# Mengambil 5 kota dengan customers paling sedikit (memiliki setidaknya 1 pelanggan)\n",
    "bottom_5_cities = customer_summary[customer_summary[\"customer_count\"] > 0].tail(5)\n",
    "\n",
    "# Menghitung total customer per provinsi\n",
    "customer_by_state = customer_summary.groupby(\"customer_state\")[\"customer_count\"].sum().reset_index()\n",
    "\n",
    "# Mengurutkan berdasarkan jumlah pelanggan\n",
    "customer_by_state = customer_by_state.sort_values(by=\"customer_count\", ascending=False)\n",
    "\n",
    "# Mengambil 10 provinsi dengan customers terbanyak\n",
    "top_10_states = customer_by_state.head(10)\n",
    "\n",
    "# Mengambil 5 provinsi dengan customer paling sedikit\n",
    "bottom_5_states = customer_by_state.tail(5)\n",
    "\n",
    "# Menampilkan hasil eksplorasi\n",
    "print(\"🔹 Top 10 Kota dengan customers Terbanyak:\")\n",
    "print(top_10_cities)\n",
    "\n",
    "print(\"\\n🔹 Bottom 5 Kota dengan customers Paling Sedikit:\")\n",
    "print(bottom_5_cities)\n",
    "\n",
    "print(\"\\n🔹 Top 10 Provinsi dengan customers Terbanyak:\")\n",
    "print(top_10_states)\n",
    "\n",
    "print(\"\\n🔹 Bottom 5 Provinsi dengan customers Paling Sedikit:\")\n",
    "print(bottom_5_states)"
   ]
  },
  {
   "cell_type": "code",
   "execution_count": 66,
   "id": "7192b4b0-5843-45b3-97cf-b02fed1efcd5",
   "metadata": {},
   "outputs": [
    {
     "name": "stdout",
     "output_type": "stream",
     "text": [
      "Top 10 Produk Terlaris:\n",
      "                         product_id  sales   product_category_name\n",
      "0  aca2eb7d00ea1a7b8ebd4e68314663af    527        moveis_decoracao\n",
      "1  99a4788cb24856965c36a24e339b6058    488         cama_mesa_banho\n",
      "2  422879e10f46682990de24d770e7f83d    484      ferramentas_jardim\n",
      "3  389d119b48cf3043d311335e499d9c6b    392      ferramentas_jardim\n",
      "4  368c6c730842d78016ad823897a372db    388      ferramentas_jardim\n",
      "5  53759a2ecddad2bb87a079a1f1519f73    373      ferramentas_jardim\n",
      "6  d1c427060a0f73f6b889a5c7c61f2ac4    343  informatica_acessorios\n",
      "7  53b36df67ebb7c41585e8d54d6772e08    323      relogios_presentes\n",
      "8  154e7e31ebfa092203795c972e5804a6    281            beleza_saude\n",
      "9  3dd2a17168ec895c781a9191c1e95ad7    274  informatica_acessorios\n",
      "\n",
      "Bottom 10 Produk Paling Sedikit Terjual:\n",
      "                             product_id  sales   product_category_name\n",
      "32941  4cc4d02efc8f249c13355147fb44e34d      1      ferramentas_jardim\n",
      "32942  b10ecf8e33aaaea419a9fa860ea80fb5      1        moveis_decoracao\n",
      "32943  dd469c03ad67e201bc2179ef077dcd48      1      relogios_presentes\n",
      "32944  bbe7651fef80287a816ead73f065fc4b      1           esporte_lazer\n",
      "32945  0829c25b4a3efca7651f07cd4b8e05bc      1  informatica_acessorios\n",
      "32946  038c0dd7c1e48a1588f8919a0c305727      1        eletrodomesticos\n",
      "32947  aa20709d44e96059764f1b0386d3bcfa      1      relogios_presentes\n",
      "32948  9ae3dacfd2327107a1e28274fac25a4e      1         cama_mesa_banho\n",
      "32949  0c398b245c9b74ef2bf4343b6fe73237      1        moveis_decoracao\n",
      "32950  446295cf6f689d4db477145815362608      1               papelaria\n"
     ]
    }
   ],
   "source": [
    "# Menghitung jumlah produk terjual\n",
    "product_sales = orders_df[\"product_id\"].value_counts().reset_index()\n",
    "product_sales.columns = [\"product_id\", \"sales\"]\n",
    "\n",
    "# Menggabungkan dengan kategori produk\n",
    "product_sales = product_sales.merge(products_df[[\"product_id\", \"product_category_name\"]], on=\"product_id\", how=\"left\")\n",
    "\n",
    "# Mengambil 10 produk terlaris\n",
    "top_10_products = product_sales.head(10)\n",
    "\n",
    "# Mengambil 10 produk paling sedikit terjual\n",
    "bottom_10_products = product_sales.tail(10)\n",
    "\n",
    "# Menampilkan hasil eksplorasi\n",
    "print(\"Top 10 Produk Terlaris:\")\n",
    "print(top_10_products)\n",
    "\n",
    "print(\"\\nBottom 10 Produk Paling Sedikit Terjual:\")\n",
    "print(bottom_10_products)"
   ]
  },
  {
   "cell_type": "markdown",
   "id": "c91efa31-4dd8-4108-a7b5-9cf8b03d55d2",
   "metadata": {},
   "source": [
    "##### Insight\n",
    "Melakukan penggabungan data dengan mengambil dari beberapa tabel yang berbeda, menyesuaikan dengan data yang dibutuhkan dengan pertanyaan bisnis."
   ]
  },
  {
   "cell_type": "markdown",
   "id": "49c9113e-6ad1-46e6-ad13-eed960bb7a1a",
   "metadata": {},
   "source": [
    "## Visualization & Explanatory Analysis"
   ]
  },
  {
   "cell_type": "markdown",
   "id": "bb50ca01-3c6f-4ee8-9c22-b7cff1f682a6",
   "metadata": {
    "jp-MarkdownHeadingCollapsed": true
   },
   "source": [
    "#### Pertanyaan 1: Bagaimana performa penjualan dan revenue perusahaan dalam beberapa bulan terakhir?"
   ]
  },
  {
   "cell_type": "code",
   "execution_count": 69,
   "id": "ef71fafe-f2fe-463a-b9b4-6d2d9345887c",
   "metadata": {},
   "outputs": [
    {
     "data": {
      "image/png": "[encoded data removed]",
      "text/plain": [
       "<Figure size 1200x600 with 2 Axes>"
      ]
     },
     "metadata": {},
     "output_type": "display_data"
    }
   ],
   "source": [
    "# Gaya visualisasi\n",
    "sns.set_theme(style=\"whitegrid\")\n",
    "\n",
    "# Ukuran figure\n",
    "fig, ax1 = plt.subplots(figsize=(12, 6))\n",
    "\n",
    "# Plot total orders sebagai bar chart\n",
    "sns.barplot(data=monthly_sales, \n",
    "            x=\"order_purchase_timestamp\", \n",
    "            y=\"total_orders\", \n",
    "            color=\"skyblue\", \n",
    "            label=\"Total Orders\", \n",
    "            ax=ax1)\n",
    "\n",
    "# Buat sumbu y kedua untuk revenue\n",
    "ax2 = ax1.twinx()\n",
    "sns.lineplot(data=monthly_sales, \n",
    "             x=\"order_purchase_timestamp\", \n",
    "             y=\"total_revenue\", \n",
    "             marker=\"o\", \n",
    "             color=\"red\", \n",
    "             linewidth=2, \n",
    "             label=\"Total Revenue\", \n",
    "             ax=ax2)\n",
    "\n",
    "# Label dan judul\n",
    "ax1.set_xlabel(\"Bulan\", fontsize=12)\n",
    "ax1.set_ylabel(\"Jumlah Order\", fontsize=12, color=\"blue\")\n",
    "ax2.set_ylabel(\"Total Revenue (Rp)\", fontsize=12, color=\"red\")\n",
    "plt.title(\"Tren Total Order dan Revenue per Bulan\", fontsize=14)\n",
    "\n",
    "# Rotasi label x agar lebih rapi\n",
    "plt.xticks(rotation=45)\n",
    "\n",
    "# Tambahkan legenda\n",
    "ax1.legend(loc=\"upper left\")\n",
    "ax2.legend(loc=\"upper right\")\n",
    "\n",
    "# Tampilkan plot\n",
    "plt.show()"
   ]
  },
  {
   "cell_type": "markdown",
   "id": "f6ea3431-6b42-46b9-b5a3-2433be894fd3",
   "metadata": {
    "jp-MarkdownHeadingCollapsed": true
   },
   "source": [
    "#### Pertanyaan 2: Bagaimana demografi pelanggan yang kita miliki?"
   ]
  },
  {
   "cell_type": "code",
   "execution_count": 79,
   "id": "066831fc-650e-43a1-bd85-cbc6eba332e6",
   "metadata": {},
   "outputs": [
    {
     "name": "stderr",
     "output_type": "stream",
     "text": [
      "C:\\Users\\User\\.virtualenvs\\Jupyter-FE-eyk5q\\Lib\\site-packages\\IPython\\core\\pylabtools.py:170: UserWarning: Glyph 128313 (\\N{SMALL BLUE DIAMOND}) missing from font(s) Arial.\n",
      "  fig.canvas.print_figure(bytes_io, **kw)\n"
     ]
    },
    {
     "data": {
      "image/png": "[encoded data removed]",
      "text/plain": [
       "<Figure size 1200x600 with 1 Axes>"
      ]
     },
     "metadata": {},
     "output_type": "display_data"
    },
    {
     "name": "stderr",
     "output_type": "stream",
     "text": [
      "C:\\Users\\User\\.virtualenvs\\Jupyter-FE-eyk5q\\Lib\\site-packages\\IPython\\core\\pylabtools.py:170: UserWarning: Glyph 128313 (\\N{SMALL BLUE DIAMOND}) missing from font(s) Arial.\n",
      "  fig.canvas.print_figure(bytes_io, **kw)\n"
     ]
    },
    {
     "data": {
      "image/png": "[encoded data removed]",
      "text/plain": [
       "<Figure size 1200x400 with 1 Axes>"
      ]
     },
     "metadata": {},
     "output_type": "display_data"
    },
    {
     "name": "stderr",
     "output_type": "stream",
     "text": [
      "C:\\Users\\User\\AppData\\Local\\Temp\\ipykernel_19332\\289642551.py:36: FutureWarning: \n",
      "\n",
      "Passing `palette` without assigning `hue` is deprecated and will be removed in v0.14.0. Assign the `y` variable to `hue` and set `legend=False` for the same effect.\n",
      "\n",
      "  sns.barplot(data=top_10_states,\n",
      "C:\\Users\\User\\.virtualenvs\\Jupyter-FE-eyk5q\\Lib\\site-packages\\IPython\\core\\pylabtools.py:170: UserWarning: Glyph 128313 (\\N{SMALL BLUE DIAMOND}) missing from font(s) Arial.\n",
      "  fig.canvas.print_figure(bytes_io, **kw)\n"
     ]
    },
    {
     "data": {
      "image/png": "[encoded data removed]",
      "text/plain": [
       "<Figure size 1200x600 with 1 Axes>"
      ]
     },
     "metadata": {},
     "output_type": "display_data"
    },
    {
     "name": "stderr",
     "output_type": "stream",
     "text": [
      "C:\\Users\\User\\AppData\\Local\\Temp\\ipykernel_19332\\289642551.py:48: FutureWarning: \n",
      "\n",
      "Passing `palette` without assigning `hue` is deprecated and will be removed in v0.14.0. Assign the `y` variable to `hue` and set `legend=False` for the same effect.\n",
      "\n",
      "  sns.barplot(data=bottom_5_states,\n",
      "C:\\Users\\User\\.virtualenvs\\Jupyter-FE-eyk5q\\Lib\\site-packages\\IPython\\core\\pylabtools.py:170: UserWarning: Glyph 128313 (\\N{SMALL BLUE DIAMOND}) missing from font(s) Arial.\n",
      "  fig.canvas.print_figure(bytes_io, **kw)\n"
     ]
    },
    {
     "data": {
      "image/png": "[encoded data removed]",
      "text/plain": [
       "<Figure size 1200x400 with 1 Axes>"
      ]
     },
     "metadata": {},
     "output_type": "display_data"
    }
   ],
   "source": [
    "# Set style\n",
    "sns.set_theme(style=\"whitegrid\")\n",
    "\n",
    "# 🔹 Visualisasi 10 Kota dengan Pelanggan Terbanyak\n",
    "plt.figure(figsize=(12, 6))\n",
    "sns.barplot(data=top_10_cities, \n",
    "            x=\"customer_count\", \n",
    "            y=\"customer_city\", \n",
    "            hue=\"customer_state\", \n",
    "            dodge=False, \n",
    "            palette=\"viridis\")\n",
    "\n",
    "plt.xlabel(\"Jumlah Pelanggan\")\n",
    "plt.ylabel(\"Kota\")\n",
    "plt.title(\"🔹 10 Kota dengan Pelanggan Terbanyak\")\n",
    "plt.legend(title=\"Provinsi\", bbox_to_anchor=(1.05, 1), loc='upper left')\n",
    "plt.show()\n",
    "\n",
    "# 🔹 Visualisasi 5 Kota dengan Pelanggan Paling Sedikit\n",
    "plt.figure(figsize=(12, 4))\n",
    "sns.barplot(data=bottom_5_cities, \n",
    "            x=\"customer_count\", \n",
    "            y=\"customer_city\", \n",
    "            hue=\"customer_state\", \n",
    "            dodge=False, \n",
    "            palette=\"coolwarm\")\n",
    "\n",
    "plt.xlabel(\"Jumlah Pelanggan\")\n",
    "plt.ylabel(\"Kota\")\n",
    "plt.title(\"🔹 5 Kota dengan Pelanggan Paling Sedikit\")\n",
    "plt.legend(title=\"Provinsi\", bbox_to_anchor=(1.05, 1), loc='upper left')\n",
    "plt.show()\n",
    "\n",
    "# 🔹 Visualisasi 10 Provinsi dengan Pelanggan Terbanyak\n",
    "plt.figure(figsize=(12, 6))\n",
    "sns.barplot(data=top_10_states, \n",
    "            x=\"customer_count\", \n",
    "            y=\"customer_state\", \n",
    "            palette=\"Blues_r\")\n",
    "\n",
    "plt.xlabel(\"Jumlah Pelanggan\")\n",
    "plt.ylabel(\"Provinsi\")\n",
    "plt.title(\"🔹 10 Provinsi dengan Pelanggan Terbanyak\")\n",
    "plt.show()\n",
    "\n",
    "# 🔹 Visualisasi 5 Provinsi dengan Pelanggan Paling Sedikit\n",
    "plt.figure(figsize=(12, 4))\n",
    "sns.barplot(data=bottom_5_states, \n",
    "            x=\"customer_count\", \n",
    "            y=\"customer_state\", \n",
    "            palette=\"Reds_r\")\n",
    "\n",
    "plt.xlabel(\"Jumlah Pelanggan\")\n",
    "plt.ylabel(\"Provinsi\")\n",
    "plt.title(\"🔹 5 Provinsi dengan Pelanggan Paling Sedikit\")\n",
    "plt.show()"
   ]
  },
  {
   "cell_type": "markdown",
   "id": "584ea376-027e-49c1-8495-50d0562a47c8",
   "metadata": {
    "jp-MarkdownHeadingCollapsed": true
   },
   "source": [
    "#### Pertanyaan 3: Produk apa yang paling banyak dan paling sedikit terjual??"
   ]
  },
  {
   "cell_type": "code",
   "execution_count": 71,
   "id": "90cbd8e8-4acd-4d9c-84c0-f1780087939e",
   "metadata": {},
   "outputs": [
    {
     "name": "stderr",
     "output_type": "stream",
     "text": [
      "C:\\Users\\User\\AppData\\Local\\Temp\\ipykernel_19332\\3210342840.py:5: SettingWithCopyWarning: \n",
      "A value is trying to be set on a copy of a slice from a DataFrame.\n",
      "Try using .loc[row_indexer,col_indexer] = value instead\n",
      "\n",
      "See the caveats in the documentation: https://pandas.pydata.org/pandas-docs/stable/user_guide/indexing.html#returning-a-view-versus-a-copy\n",
      "  top_10_products[\"label\"] = top_10_products[\"product_id\"] + \" - \" + top_10_products[\"product_category_name\"]\n",
      "C:\\Users\\User\\AppData\\Local\\Temp\\ipykernel_19332\\3210342840.py:6: SettingWithCopyWarning: \n",
      "A value is trying to be set on a copy of a slice from a DataFrame.\n",
      "Try using .loc[row_indexer,col_indexer] = value instead\n",
      "\n",
      "See the caveats in the documentation: https://pandas.pydata.org/pandas-docs/stable/user_guide/indexing.html#returning-a-view-versus-a-copy\n",
      "  bottom_10_products[\"label\"] = bottom_10_products[\"product_id\"] + \" - \" + bottom_10_products[\"product_category_name\"]\n",
      "C:\\Users\\User\\AppData\\Local\\Temp\\ipykernel_19332\\3210342840.py:12: FutureWarning: \n",
      "\n",
      "Passing `palette` without assigning `hue` is deprecated and will be removed in v0.14.0. Assign the `y` variable to `hue` and set `legend=False` for the same effect.\n",
      "\n",
      "  sns.barplot(data=top_10_products,\n",
      "C:\\Users\\User\\AppData\\Local\\Temp\\ipykernel_19332\\3210342840.py:23: FutureWarning: \n",
      "\n",
      "Passing `palette` without assigning `hue` is deprecated and will be removed in v0.14.0. Assign the `y` variable to `hue` and set `legend=False` for the same effect.\n",
      "\n",
      "  sns.barplot(data=bottom_10_products,\n"
     ]
    },
    {
     "data": {
      "image/png": "[encoded data removed]",
      "text/plain": [
       "<Figure size 1600x700 with 2 Axes>"
      ]
     },
     "metadata": {},
     "output_type": "display_data"
    }
   ],
   "source": [
    "# Gaya visualisasi \n",
    "sns.set_theme(style=\"whitegrid\")\n",
    "\n",
    "# Menggabungkan Product ID dan Kategori \n",
    "top_10_products[\"label\"] = top_10_products[\"product_id\"] + \" - \" + top_10_products[\"product_category_name\"]\n",
    "bottom_10_products[\"label\"] = bottom_10_products[\"product_id\"] + \" - \" + bottom_10_products[\"product_category_name\"]\n",
    "\n",
    "# Ukuran figure\n",
    "fig, axes = plt.subplots(1, 2, figsize=(16, 7))\n",
    "\n",
    "# 🔹 Visualisasi 10 Produk Terlaris\n",
    "sns.barplot(data=top_10_products, \n",
    "            x=\"sales\", \n",
    "            y=\"label\", \n",
    "            palette=\"Blues_r\", \n",
    "            ax=axes[0])\n",
    "\n",
    "axes[0].set_title(\"10 Produk Terlaris\", fontsize=14, fontweight=\"bold\")\n",
    "axes[0].set_xlabel(\"Jumlah Terjual\", fontsize=12)\n",
    "axes[0].set_ylabel(\"Product ID - Kategori\", fontsize=12)\n",
    "\n",
    "# 🔹 Visualisasi 10 Produk Paling Sedikit Terjual\n",
    "sns.barplot(data=bottom_10_products, \n",
    "            x=\"sales\", \n",
    "            y=\"label\", \n",
    "            palette=\"Reds_r\", \n",
    "            ax=axes[1])\n",
    "\n",
    "axes[1].set_title(\"10 Produk Paling Sedikit Terjual\", fontsize=14, fontweight=\"bold\")\n",
    "axes[1].set_xlabel(\"Jumlah Terjual\", fontsize=12)\n",
    "axes[1].set_ylabel(\"Product ID - Kategori\", fontsize=12)\n",
    "\n",
    "plt.tight_layout()\n",
    "plt.show()\n"
   ]
  },
  {
   "cell_type": "markdown",
   "id": "f06112b8-d04c-4250-842e-ac7ab8f0c883",
   "metadata": {},
   "source": [
    "#### Insight\n",
    "Mengimplementasikan data yang sudah melewati tahapan data wrangling dan Eksplorasi menjadi sebuah visualisasi data yang menarik"
   ]
  },
  {
   "cell_type": "markdown",
   "id": "85e7708f-4937-4499-a7b3-03102a73b842",
   "metadata": {
    "jp-MarkdownHeadingCollapsed": true
   },
   "source": [
    "## Conclusion"
   ]
  },
  {
   "cell_type": "markdown",
   "id": "059040bf-c1bc-43ca-8e43-02477b162420",
   "metadata": {},
   "source": [
    "- Pertanyaan 1:\n",
    "  Dalam 10 bulan terakhir, jumlah pesanan dan total pendapatan menunjukkan tren yang stabil. Ada saat dimana jumlah pesanan dan pendapatan sangat baik,   yaitu pada 2017-11 dan Ada saat dimana jumlah pesanan dan pendapatan turun cukup drastis, yaitu pada 2017-12. Namun, di 3 bulan terakhir menunjukkan    tren yang cukup baik.\n",
    "- Pertanyaan 2:\n",
    "  Sebagian besar pelanggan berasal dari kota-kota besar, dengan dominasi di 10 kota teratas, sementara distribusi di berbagai provinsi menunjukkan variasi. Terdapat perbedaan signifikan dalam jumlah pelanggan antarprovinsi, dan lima kota dengan jumlah pelanggan terendah berpotensi menjadi target pasar baru yang memerlukan strategi promosi lebih intensif.\n",
    "- Pertanyaan 3:\n",
    "  Produk terlaris didominasi oleh kategori moveis_decoracao, cama_mesa_banho, dan ferramentas_jardim, dengan penjualan tertinggi mencapai 527 unit. Kategori moveis_decoracao, cama_mesa_banho, dan ferramentas_jardim juga memiliki beberapa produk dengan angka penjualan tinggi maupun rendah, menunjukkan adanya variasi dalam permintaan produk di kategori ini.\n",
    "  "
   ]
  },
  {
   "cell_type": "code",
   "execution_count": 76,
   "id": "3a92863a-9a87-4d10-b162-4073fa8d9c70",
   "metadata": {},
   "outputs": [],
   "source": [
    "top_10_products.to_csv(\"top_10_products.csv\", index=False)\n",
    "bottom_10_products.to_csv(\"bottom_10_products.csv\", index=False)\n",
    "monthly_sales.to_csv(\"monthly_sales.csv\", index=False)"
   ]
  },
  {
   "cell_type": "code",
   "execution_count": 77,
   "id": "2d8e8f73-3908-4373-879e-182f77332fb7",
   "metadata": {},
   "outputs": [],
   "source": [
    "top_10_cities.to_csv(\"top_10_cities.csv\", index=False)\n",
    "bottom_5_cities.to_csv(\"bottom_5_cities.csv\", index=False)\n",
    "top_10_states.to_csv(\"top_10_states.csv\", index=False)\n",
    "bottom_5_states.to_csv(\"bottom_5_states.csv\", index=False)"
   ]
  },
  {
   "cell_type": "code",
   "execution_count": 78,
   "id": "7aa6e0d9-0517-4bce-b190-fc2026140933",
   "metadata": {},
   "outputs": [],
   "source": [
    "top_10_products.to_csv(\"top_10_products.csv\", index=False)\n",
    "bottom_10_products.to_csv(\"bottom_10_products.csv\", index=False)"
   ]
  }
 ],
 "metadata": {
  "kernelspec": {
   "display_name": "Python 3 (ipykernel)",
   "language": "python",
   "name": "python3"
  },
  "language_info": {
   "codemirror_mode": {
    "name": "ipython",
    "version": 3
   },
   "file_extension": ".py",
   "mimetype": "text/x-python",
   "name": "python",
   "nbconvert_exporter": "python",
   "pygments_lexer": "ipython3",
   "version": "3.11.5"
  }
 },
 "nbformat": 4,
 "nbformat_minor": 5
}
